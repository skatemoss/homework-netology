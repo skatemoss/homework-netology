{
  "nbformat": 4,
  "nbformat_minor": 0,
  "metadata": {
    "colab": {
      "provenance": []
    },
    "kernelspec": {
      "name": "python3",
      "display_name": "Python 3"
    },
    "language_info": {
      "name": "python"
    }
  },
  "cells": [
    {
      "cell_type": "markdown",
      "source": [
        "#### Задание №1\n",
        "\n",
        "Смоделировать игру против лотерейного автомата типа “777”. Игрок платит 1 руб., после чего выпадает случайное целое число, равномерно распределенное от 0 до 999. При некоторых значениях числа игрок получает выигрыш.\n",
        "\n",
        "* 777: 200 руб.\n",
        "* 999: 100 руб.\n",
        "* 555: 50 руб.\n",
        "* 333: 15 руб.\n",
        "* 111: 10 руб.\n",
        "* *77: 5 руб.\n",
        "* **7: 3 руб.\n",
        "* *00: 2 руб.\n",
        "* **0: 1 руб.\n",
        "\n",
        "Вопросы:\n",
        "\n",
        "    Выгодна ли игра игроку?\n",
        "    Сколько в среднем приобретает или теряет игрок за одну игру?\n"
      ],
      "metadata": {
        "id": "0G3xnasinQwA"
      }
    },
    {
      "cell_type": "code",
      "source": [
        "import numpy as np"
      ],
      "metadata": {
        "id": "duzYE431nl14"
      },
      "execution_count": null,
      "outputs": []
    },
    {
      "cell_type": "code",
      "source": [
        "trials = 100000\n",
        "profit = 0\n",
        "np.random.seed(42)\n",
        "\n",
        "for i in range(trials):\n",
        "  rndm_number = np.random.randint(0, 1000)\n",
        "  if rndm_number == 777:\n",
        "    profit += 200\n",
        "  elif rndm_number == 999:\n",
        "    profit += 100\n",
        "  elif rndm_number == 555:\n",
        "    profit += 50\n",
        "  elif rndm_number == 333:\n",
        "    profit += 15\n",
        "  elif rndm_number == 111:\n",
        "    profit += 10\n",
        "  elif rndm_number % 100 == 77:\n",
        "    profit += 5\n",
        "  elif rndm_number % 10 == 7:\n",
        "    profit += 3\n",
        "  elif rndm_number % 100 == 0:\n",
        "    profit += 2\n",
        "  elif rndm_number % 10 == 0:\n",
        "    profit += 1\n",
        "\n",
        "print('Было - ', trials)\n",
        "print('Стало - ', profit)\n",
        "print('В среднем игрок теряет за одну игру - ', round((profit-trials) / trials, 2)) "
      ],
      "metadata": {
        "colab": {
          "base_uri": "https://localhost:8080/"
        },
        "id": "n2rBTr5voFGb",
        "outputId": "04b57587-6eba-4c5a-e42c-08bc03f86f47"
      },
      "execution_count": null,
      "outputs": [
        {
          "output_type": "stream",
          "name": "stdout",
          "text": [
            "Было -  100000\n",
            "Стало -  80097\n",
            "В среднем игрок теряет за одну игру -  -0.2\n"
          ]
        }
      ]
    }
  ]
}