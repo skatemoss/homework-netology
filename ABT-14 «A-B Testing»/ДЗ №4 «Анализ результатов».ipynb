{
 "cells": [
  {
   "cell_type": "markdown",
   "id": "a3381d26",
   "metadata": {},
   "source": [
    "### Задание:\n",
    "\n",
    "Выберите одну из трех фичей для анализа\n",
    "* Понижение коэффициента surge, чтобы увеличить price-to-order конверсию (во время surge)\n",
    "  Ожидаем: выше price-to-order конверсия во время surge\n",
    "* Если юзер Android нажимает “отменить”, предлагать промокод в случае НЕ отмены\n",
    "  Ожидаем: ниже отмены на Android устройствах\n",
    "* При уточнении, уверен ли юзер в отмене заказа не из центра, добавить эмодзи котика, просящего не отменять\n",
    "  Ожидаем: ниже отмены по заказам НЕ из центра\n",
    "\n",
    "Отфильтруйте датасет по своей гипотезе. Используйте метрику, которая описана в блоке “Ожидаем”\n",
    "\n",
    "Постройте периодический p-value по выбранной метрике (сплит уже произведен)\n",
    "* Разбейте общее количество наблюдений на 7 участков (используйте столбец даты)\n",
    "* Для каждого участка используйте встроенную функцию ТТЕСТ() в excel, чтобы сравнить тестовую и котрольную группы\n",
    "* 7 полученных значений p-value визуализируйте на графике\n",
    "\n",
    "На основе графика сделайте вывод о значимости результатов.\n"
   ]
  },
  {
   "cell_type": "markdown",
   "id": "7a9d4a8d",
   "metadata": {},
   "source": [
    "Фича: если юзер Android нажимает “отменить”, предлагать промокод в случае НЕ отмены\n",
    "\n",
    "Ожидаем: ниже отмены на Android устройствах"
   ]
  },
  {
   "cell_type": "code",
   "execution_count": 1,
   "id": "89f96bda",
   "metadata": {},
   "outputs": [],
   "source": [
    "import numpy as np\n",
    "import pandas as pd\n",
    "import matplotlib.pyplot as plt\n",
    "import random\n",
    "import scipy.stats as stats"
   ]
  },
  {
   "cell_type": "code",
   "execution_count": 2,
   "id": "604867af",
   "metadata": {},
   "outputs": [],
   "source": [
    "df = pd.read_csv('post_abtest_data.csv')"
   ]
  },
  {
   "cell_type": "code",
   "execution_count": 3,
   "id": "2df06319",
   "metadata": {},
   "outputs": [
    {
     "name": "stdout",
     "output_type": "stream",
     "text": [
      "<class 'pandas.core.frame.DataFrame'>\n",
      "RangeIndex: 101500 entries, 0 to 101499\n",
      "Data columns (total 11 columns):\n",
      " #   Column             Non-Null Count   Dtype  \n",
      "---  ------             --------------   -----  \n",
      " 0   user_id            101500 non-null  int64  \n",
      " 1   date               101500 non-null  object \n",
      " 2   app_opened         101500 non-null  int64  \n",
      " 3   group              101500 non-null  object \n",
      " 4   price_seen         101500 non-null  int64  \n",
      " 5   order_made         101500 non-null  int64  \n",
      " 6   surge              92358 non-null   object \n",
      " 7   os                 101500 non-null  object \n",
      " 8   user_cancelled     70157 non-null   float64\n",
      " 9   city_center_order  70157 non-null   float64\n",
      " 10  groups             101500 non-null  object \n",
      "dtypes: float64(2), int64(4), object(5)\n",
      "memory usage: 8.5+ MB\n"
     ]
    }
   ],
   "source": [
    "df.info()"
   ]
  },
  {
   "cell_type": "code",
   "execution_count": 4,
   "id": "be2a2a2e",
   "metadata": {},
   "outputs": [
    {
     "data": {
      "text/html": [
       "<div>\n",
       "<style scoped>\n",
       "    .dataframe tbody tr th:only-of-type {\n",
       "        vertical-align: middle;\n",
       "    }\n",
       "\n",
       "    .dataframe tbody tr th {\n",
       "        vertical-align: top;\n",
       "    }\n",
       "\n",
       "    .dataframe thead th {\n",
       "        text-align: right;\n",
       "    }\n",
       "</style>\n",
       "<table border=\"1\" class=\"dataframe\">\n",
       "  <thead>\n",
       "    <tr style=\"text-align: right;\">\n",
       "      <th></th>\n",
       "      <th>user_id</th>\n",
       "      <th>date</th>\n",
       "      <th>app_opened</th>\n",
       "      <th>group</th>\n",
       "      <th>price_seen</th>\n",
       "      <th>order_made</th>\n",
       "      <th>surge</th>\n",
       "      <th>os</th>\n",
       "      <th>user_cancelled</th>\n",
       "      <th>city_center_order</th>\n",
       "      <th>groups</th>\n",
       "    </tr>\n",
       "  </thead>\n",
       "  <tbody>\n",
       "    <tr>\n",
       "      <th>0</th>\n",
       "      <td>867689</td>\n",
       "      <td>2020-05-28</td>\n",
       "      <td>1</td>\n",
       "      <td>Control</td>\n",
       "      <td>1</td>\n",
       "      <td>1</td>\n",
       "      <td>no surge</td>\n",
       "      <td>Android</td>\n",
       "      <td>0.0</td>\n",
       "      <td>1.0</td>\n",
       "      <td>Control</td>\n",
       "    </tr>\n",
       "    <tr>\n",
       "      <th>1</th>\n",
       "      <td>867689</td>\n",
       "      <td>2020-05-29</td>\n",
       "      <td>1</td>\n",
       "      <td>Control</td>\n",
       "      <td>1</td>\n",
       "      <td>0</td>\n",
       "      <td>surge</td>\n",
       "      <td>iOS</td>\n",
       "      <td>NaN</td>\n",
       "      <td>NaN</td>\n",
       "      <td>Control</td>\n",
       "    </tr>\n",
       "    <tr>\n",
       "      <th>2</th>\n",
       "      <td>867689</td>\n",
       "      <td>2020-05-25</td>\n",
       "      <td>1</td>\n",
       "      <td>Control</td>\n",
       "      <td>1</td>\n",
       "      <td>1</td>\n",
       "      <td>surge</td>\n",
       "      <td>Android</td>\n",
       "      <td>0.0</td>\n",
       "      <td>0.0</td>\n",
       "      <td>Control</td>\n",
       "    </tr>\n",
       "    <tr>\n",
       "      <th>3</th>\n",
       "      <td>752172</td>\n",
       "      <td>2020-05-29</td>\n",
       "      <td>1</td>\n",
       "      <td>Control</td>\n",
       "      <td>1</td>\n",
       "      <td>1</td>\n",
       "      <td>surge</td>\n",
       "      <td>Android</td>\n",
       "      <td>0.0</td>\n",
       "      <td>1.0</td>\n",
       "      <td>Control</td>\n",
       "    </tr>\n",
       "    <tr>\n",
       "      <th>4</th>\n",
       "      <td>752172</td>\n",
       "      <td>2020-05-28</td>\n",
       "      <td>1</td>\n",
       "      <td>Control</td>\n",
       "      <td>1</td>\n",
       "      <td>1</td>\n",
       "      <td>no surge</td>\n",
       "      <td>iOS</td>\n",
       "      <td>0.0</td>\n",
       "      <td>0.0</td>\n",
       "      <td>Control</td>\n",
       "    </tr>\n",
       "    <tr>\n",
       "      <th>5</th>\n",
       "      <td>486559</td>\n",
       "      <td>2020-05-25</td>\n",
       "      <td>1</td>\n",
       "      <td>Control</td>\n",
       "      <td>1</td>\n",
       "      <td>0</td>\n",
       "      <td>surge</td>\n",
       "      <td>Android</td>\n",
       "      <td>NaN</td>\n",
       "      <td>NaN</td>\n",
       "      <td>Control</td>\n",
       "    </tr>\n",
       "    <tr>\n",
       "      <th>6</th>\n",
       "      <td>486559</td>\n",
       "      <td>2020-05-31</td>\n",
       "      <td>1</td>\n",
       "      <td>Control</td>\n",
       "      <td>1</td>\n",
       "      <td>1</td>\n",
       "      <td>no surge</td>\n",
       "      <td>iOS</td>\n",
       "      <td>0.0</td>\n",
       "      <td>0.0</td>\n",
       "      <td>Control</td>\n",
       "    </tr>\n",
       "    <tr>\n",
       "      <th>7</th>\n",
       "      <td>486559</td>\n",
       "      <td>2020-05-30</td>\n",
       "      <td>1</td>\n",
       "      <td>Control</td>\n",
       "      <td>1</td>\n",
       "      <td>1</td>\n",
       "      <td>no surge</td>\n",
       "      <td>Android</td>\n",
       "      <td>0.0</td>\n",
       "      <td>0.0</td>\n",
       "      <td>Control</td>\n",
       "    </tr>\n",
       "    <tr>\n",
       "      <th>8</th>\n",
       "      <td>486559</td>\n",
       "      <td>2020-05-28</td>\n",
       "      <td>1</td>\n",
       "      <td>Control</td>\n",
       "      <td>1</td>\n",
       "      <td>0</td>\n",
       "      <td>surge</td>\n",
       "      <td>iOS</td>\n",
       "      <td>NaN</td>\n",
       "      <td>NaN</td>\n",
       "      <td>Control</td>\n",
       "    </tr>\n",
       "    <tr>\n",
       "      <th>9</th>\n",
       "      <td>486559</td>\n",
       "      <td>2020-05-29</td>\n",
       "      <td>1</td>\n",
       "      <td>Control</td>\n",
       "      <td>1</td>\n",
       "      <td>1</td>\n",
       "      <td>no surge</td>\n",
       "      <td>Android</td>\n",
       "      <td>0.0</td>\n",
       "      <td>0.0</td>\n",
       "      <td>Control</td>\n",
       "    </tr>\n",
       "  </tbody>\n",
       "</table>\n",
       "</div>"
      ],
      "text/plain": [
       "   user_id        date  app_opened    group  price_seen  order_made     surge  \\\n",
       "0   867689  2020-05-28           1  Control           1           1  no surge   \n",
       "1   867689  2020-05-29           1  Control           1           0     surge   \n",
       "2   867689  2020-05-25           1  Control           1           1     surge   \n",
       "3   752172  2020-05-29           1  Control           1           1     surge   \n",
       "4   752172  2020-05-28           1  Control           1           1  no surge   \n",
       "5   486559  2020-05-25           1  Control           1           0     surge   \n",
       "6   486559  2020-05-31           1  Control           1           1  no surge   \n",
       "7   486559  2020-05-30           1  Control           1           1  no surge   \n",
       "8   486559  2020-05-28           1  Control           1           0     surge   \n",
       "9   486559  2020-05-29           1  Control           1           1  no surge   \n",
       "\n",
       "        os  user_cancelled  city_center_order   groups  \n",
       "0  Android             0.0                1.0  Control  \n",
       "1      iOS             NaN                NaN  Control  \n",
       "2  Android             0.0                0.0  Control  \n",
       "3  Android             0.0                1.0  Control  \n",
       "4      iOS             0.0                0.0  Control  \n",
       "5  Android             NaN                NaN  Control  \n",
       "6      iOS             0.0                0.0  Control  \n",
       "7  Android             0.0                0.0  Control  \n",
       "8      iOS             NaN                NaN  Control  \n",
       "9  Android             0.0                0.0  Control  "
      ]
     },
     "execution_count": 4,
     "metadata": {},
     "output_type": "execute_result"
    }
   ],
   "source": [
    "df.head(10)"
   ]
  },
  {
   "cell_type": "code",
   "execution_count": 5,
   "id": "35b584df",
   "metadata": {},
   "outputs": [
    {
     "data": {
      "text/html": [
       "<div>\n",
       "<style scoped>\n",
       "    .dataframe tbody tr th:only-of-type {\n",
       "        vertical-align: middle;\n",
       "    }\n",
       "\n",
       "    .dataframe tbody tr th {\n",
       "        vertical-align: top;\n",
       "    }\n",
       "\n",
       "    .dataframe thead th {\n",
       "        text-align: right;\n",
       "    }\n",
       "</style>\n",
       "<table border=\"1\" class=\"dataframe\">\n",
       "  <thead>\n",
       "    <tr style=\"text-align: right;\">\n",
       "      <th></th>\n",
       "      <th>user_id</th>\n",
       "      <th>date</th>\n",
       "      <th>app_opened</th>\n",
       "      <th>group</th>\n",
       "      <th>price_seen</th>\n",
       "      <th>order_made</th>\n",
       "      <th>surge</th>\n",
       "      <th>os</th>\n",
       "      <th>user_cancelled</th>\n",
       "      <th>city_center_order</th>\n",
       "      <th>groups</th>\n",
       "    </tr>\n",
       "  </thead>\n",
       "  <tbody>\n",
       "    <tr>\n",
       "      <th>0</th>\n",
       "      <td>867689</td>\n",
       "      <td>2020-05-28</td>\n",
       "      <td>1</td>\n",
       "      <td>Control</td>\n",
       "      <td>1</td>\n",
       "      <td>1</td>\n",
       "      <td>no surge</td>\n",
       "      <td>Android</td>\n",
       "      <td>0.0</td>\n",
       "      <td>1.0</td>\n",
       "      <td>Control</td>\n",
       "    </tr>\n",
       "    <tr>\n",
       "      <th>2</th>\n",
       "      <td>867689</td>\n",
       "      <td>2020-05-25</td>\n",
       "      <td>1</td>\n",
       "      <td>Control</td>\n",
       "      <td>1</td>\n",
       "      <td>1</td>\n",
       "      <td>surge</td>\n",
       "      <td>Android</td>\n",
       "      <td>0.0</td>\n",
       "      <td>0.0</td>\n",
       "      <td>Control</td>\n",
       "    </tr>\n",
       "    <tr>\n",
       "      <th>3</th>\n",
       "      <td>752172</td>\n",
       "      <td>2020-05-29</td>\n",
       "      <td>1</td>\n",
       "      <td>Control</td>\n",
       "      <td>1</td>\n",
       "      <td>1</td>\n",
       "      <td>surge</td>\n",
       "      <td>Android</td>\n",
       "      <td>0.0</td>\n",
       "      <td>1.0</td>\n",
       "      <td>Control</td>\n",
       "    </tr>\n",
       "    <tr>\n",
       "      <th>7</th>\n",
       "      <td>486559</td>\n",
       "      <td>2020-05-30</td>\n",
       "      <td>1</td>\n",
       "      <td>Control</td>\n",
       "      <td>1</td>\n",
       "      <td>1</td>\n",
       "      <td>no surge</td>\n",
       "      <td>Android</td>\n",
       "      <td>0.0</td>\n",
       "      <td>0.0</td>\n",
       "      <td>Control</td>\n",
       "    </tr>\n",
       "    <tr>\n",
       "      <th>9</th>\n",
       "      <td>486559</td>\n",
       "      <td>2020-05-29</td>\n",
       "      <td>1</td>\n",
       "      <td>Control</td>\n",
       "      <td>1</td>\n",
       "      <td>1</td>\n",
       "      <td>no surge</td>\n",
       "      <td>Android</td>\n",
       "      <td>0.0</td>\n",
       "      <td>0.0</td>\n",
       "      <td>Control</td>\n",
       "    </tr>\n",
       "    <tr>\n",
       "      <th>...</th>\n",
       "      <td>...</td>\n",
       "      <td>...</td>\n",
       "      <td>...</td>\n",
       "      <td>...</td>\n",
       "      <td>...</td>\n",
       "      <td>...</td>\n",
       "      <td>...</td>\n",
       "      <td>...</td>\n",
       "      <td>...</td>\n",
       "      <td>...</td>\n",
       "      <td>...</td>\n",
       "    </tr>\n",
       "    <tr>\n",
       "      <th>101490</th>\n",
       "      <td>600165</td>\n",
       "      <td>2020-05-25</td>\n",
       "      <td>1</td>\n",
       "      <td>Control</td>\n",
       "      <td>1</td>\n",
       "      <td>1</td>\n",
       "      <td>no surge</td>\n",
       "      <td>Android</td>\n",
       "      <td>0.0</td>\n",
       "      <td>1.0</td>\n",
       "      <td>Control</td>\n",
       "    </tr>\n",
       "    <tr>\n",
       "      <th>101491</th>\n",
       "      <td>556405</td>\n",
       "      <td>2020-05-29</td>\n",
       "      <td>1</td>\n",
       "      <td>Control</td>\n",
       "      <td>1</td>\n",
       "      <td>1</td>\n",
       "      <td>no surge</td>\n",
       "      <td>Android</td>\n",
       "      <td>0.0</td>\n",
       "      <td>1.0</td>\n",
       "      <td>Control</td>\n",
       "    </tr>\n",
       "    <tr>\n",
       "      <th>101493</th>\n",
       "      <td>442716</td>\n",
       "      <td>2020-05-26</td>\n",
       "      <td>1</td>\n",
       "      <td>Test</td>\n",
       "      <td>1</td>\n",
       "      <td>1</td>\n",
       "      <td>surge</td>\n",
       "      <td>Android</td>\n",
       "      <td>0.0</td>\n",
       "      <td>1.0</td>\n",
       "      <td>Test</td>\n",
       "    </tr>\n",
       "    <tr>\n",
       "      <th>101497</th>\n",
       "      <td>352605</td>\n",
       "      <td>2020-05-26</td>\n",
       "      <td>1</td>\n",
       "      <td>Test</td>\n",
       "      <td>1</td>\n",
       "      <td>1</td>\n",
       "      <td>no surge</td>\n",
       "      <td>Android</td>\n",
       "      <td>0.0</td>\n",
       "      <td>1.0</td>\n",
       "      <td>Test</td>\n",
       "    </tr>\n",
       "    <tr>\n",
       "      <th>101499</th>\n",
       "      <td>811817</td>\n",
       "      <td>2020-05-28</td>\n",
       "      <td>1</td>\n",
       "      <td>Test</td>\n",
       "      <td>1</td>\n",
       "      <td>1</td>\n",
       "      <td>no surge</td>\n",
       "      <td>Android</td>\n",
       "      <td>0.0</td>\n",
       "      <td>1.0</td>\n",
       "      <td>Test</td>\n",
       "    </tr>\n",
       "  </tbody>\n",
       "</table>\n",
       "<p>42177 rows × 11 columns</p>\n",
       "</div>"
      ],
      "text/plain": [
       "        user_id        date  app_opened    group  price_seen  order_made  \\\n",
       "0        867689  2020-05-28           1  Control           1           1   \n",
       "2        867689  2020-05-25           1  Control           1           1   \n",
       "3        752172  2020-05-29           1  Control           1           1   \n",
       "7        486559  2020-05-30           1  Control           1           1   \n",
       "9        486559  2020-05-29           1  Control           1           1   \n",
       "...         ...         ...         ...      ...         ...         ...   \n",
       "101490   600165  2020-05-25           1  Control           1           1   \n",
       "101491   556405  2020-05-29           1  Control           1           1   \n",
       "101493   442716  2020-05-26           1     Test           1           1   \n",
       "101497   352605  2020-05-26           1     Test           1           1   \n",
       "101499   811817  2020-05-28           1     Test           1           1   \n",
       "\n",
       "           surge       os  user_cancelled  city_center_order   groups  \n",
       "0       no surge  Android             0.0                1.0  Control  \n",
       "2          surge  Android             0.0                0.0  Control  \n",
       "3          surge  Android             0.0                1.0  Control  \n",
       "7       no surge  Android             0.0                0.0  Control  \n",
       "9       no surge  Android             0.0                0.0  Control  \n",
       "...          ...      ...             ...                ...      ...  \n",
       "101490  no surge  Android             0.0                1.0  Control  \n",
       "101491  no surge  Android             0.0                1.0  Control  \n",
       "101493     surge  Android             0.0                1.0     Test  \n",
       "101497  no surge  Android             0.0                1.0     Test  \n",
       "101499  no surge  Android             0.0                1.0     Test  \n",
       "\n",
       "[42177 rows x 11 columns]"
      ]
     },
     "execution_count": 5,
     "metadata": {},
     "output_type": "execute_result"
    }
   ],
   "source": [
    "android = df[(df['os'] == 'Android') & (df['order_made'] == 1)]\n",
    "android"
   ]
  },
  {
   "cell_type": "code",
   "execution_count": 6,
   "id": "51a41080",
   "metadata": {},
   "outputs": [
    {
     "data": {
      "text/html": [
       "<div>\n",
       "<style scoped>\n",
       "    .dataframe tbody tr th:only-of-type {\n",
       "        vertical-align: middle;\n",
       "    }\n",
       "\n",
       "    .dataframe tbody tr th {\n",
       "        vertical-align: top;\n",
       "    }\n",
       "\n",
       "    .dataframe thead th {\n",
       "        text-align: right;\n",
       "    }\n",
       "</style>\n",
       "<table border=\"1\" class=\"dataframe\">\n",
       "  <thead>\n",
       "    <tr style=\"text-align: right;\">\n",
       "      <th></th>\n",
       "      <th>user_id</th>\n",
       "      <th>groups</th>\n",
       "      <th>date</th>\n",
       "      <th>user_cancelled</th>\n",
       "    </tr>\n",
       "  </thead>\n",
       "  <tbody>\n",
       "    <tr>\n",
       "      <th>0</th>\n",
       "      <td>100093</td>\n",
       "      <td>Test</td>\n",
       "      <td>2020-05-25</td>\n",
       "      <td>0.0</td>\n",
       "    </tr>\n",
       "    <tr>\n",
       "      <th>1</th>\n",
       "      <td>100118</td>\n",
       "      <td>Test</td>\n",
       "      <td>2020-05-29</td>\n",
       "      <td>1.0</td>\n",
       "    </tr>\n",
       "    <tr>\n",
       "      <th>2</th>\n",
       "      <td>100118</td>\n",
       "      <td>Test</td>\n",
       "      <td>2020-05-30</td>\n",
       "      <td>0.0</td>\n",
       "    </tr>\n",
       "    <tr>\n",
       "      <th>3</th>\n",
       "      <td>100134</td>\n",
       "      <td>Test</td>\n",
       "      <td>2020-05-27</td>\n",
       "      <td>1.0</td>\n",
       "    </tr>\n",
       "    <tr>\n",
       "      <th>4</th>\n",
       "      <td>100134</td>\n",
       "      <td>Test</td>\n",
       "      <td>2020-05-31</td>\n",
       "      <td>0.0</td>\n",
       "    </tr>\n",
       "    <tr>\n",
       "      <th>...</th>\n",
       "      <td>...</td>\n",
       "      <td>...</td>\n",
       "      <td>...</td>\n",
       "      <td>...</td>\n",
       "    </tr>\n",
       "    <tr>\n",
       "      <th>37416</th>\n",
       "      <td>999945</td>\n",
       "      <td>Test</td>\n",
       "      <td>2020-05-30</td>\n",
       "      <td>0.0</td>\n",
       "    </tr>\n",
       "    <tr>\n",
       "      <th>37417</th>\n",
       "      <td>999962</td>\n",
       "      <td>Control</td>\n",
       "      <td>2020-05-25</td>\n",
       "      <td>0.0</td>\n",
       "    </tr>\n",
       "    <tr>\n",
       "      <th>37418</th>\n",
       "      <td>999978</td>\n",
       "      <td>Control</td>\n",
       "      <td>2020-05-26</td>\n",
       "      <td>0.0</td>\n",
       "    </tr>\n",
       "    <tr>\n",
       "      <th>37419</th>\n",
       "      <td>999978</td>\n",
       "      <td>Control</td>\n",
       "      <td>2020-05-29</td>\n",
       "      <td>0.0</td>\n",
       "    </tr>\n",
       "    <tr>\n",
       "      <th>37420</th>\n",
       "      <td>999978</td>\n",
       "      <td>Control</td>\n",
       "      <td>2020-05-31</td>\n",
       "      <td>1.0</td>\n",
       "    </tr>\n",
       "  </tbody>\n",
       "</table>\n",
       "<p>37421 rows × 4 columns</p>\n",
       "</div>"
      ],
      "text/plain": [
       "       user_id   groups        date  user_cancelled\n",
       "0       100093     Test  2020-05-25             0.0\n",
       "1       100118     Test  2020-05-29             1.0\n",
       "2       100118     Test  2020-05-30             0.0\n",
       "3       100134     Test  2020-05-27             1.0\n",
       "4       100134     Test  2020-05-31             0.0\n",
       "...        ...      ...         ...             ...\n",
       "37416   999945     Test  2020-05-30             0.0\n",
       "37417   999962  Control  2020-05-25             0.0\n",
       "37418   999978  Control  2020-05-26             0.0\n",
       "37419   999978  Control  2020-05-29             0.0\n",
       "37420   999978  Control  2020-05-31             1.0\n",
       "\n",
       "[37421 rows x 4 columns]"
      ]
     },
     "execution_count": 6,
     "metadata": {},
     "output_type": "execute_result"
    }
   ],
   "source": [
    "android = android.groupby(['user_id','groups','date']).agg({'user_cancelled':'sum'}).reset_index()\n",
    "android"
   ]
  },
  {
   "cell_type": "code",
   "execution_count": 7,
   "id": "a969f7e9",
   "metadata": {},
   "outputs": [
    {
     "data": {
      "text/plain": [
       "18899"
      ]
     },
     "execution_count": 7,
     "metadata": {},
     "output_type": "execute_result"
    }
   ],
   "source": [
    "len(android[android['groups']=='Test'])"
   ]
  },
  {
   "cell_type": "code",
   "execution_count": 8,
   "id": "26902abd",
   "metadata": {},
   "outputs": [
    {
     "data": {
      "text/plain": [
       "18522"
      ]
     },
     "execution_count": 8,
     "metadata": {},
     "output_type": "execute_result"
    }
   ],
   "source": [
    "len(android[android['groups']=='Control'])"
   ]
  },
  {
   "cell_type": "code",
   "execution_count": 9,
   "id": "6e6c389f",
   "metadata": {},
   "outputs": [
    {
     "data": {
      "text/plain": [
       "array(['2020-05-25', '2020-05-29', '2020-05-30', '2020-05-27',\n",
       "       '2020-05-31', '2020-05-28', '2020-05-26'], dtype=object)"
      ]
     },
     "execution_count": 9,
     "metadata": {},
     "output_type": "execute_result"
    }
   ],
   "source": [
    "android.date.unique()"
   ]
  },
  {
   "cell_type": "code",
   "execution_count": 10,
   "id": "5ff99199",
   "metadata": {},
   "outputs": [],
   "source": [
    "day1_c = android[(android.date == '2020-05-25') & (android.groups == 'Control')]['user_cancelled'].dropna().sample(n=2600)\n",
    "day1_t = android[(android.date == '2020-05-25') & (android.groups == 'Test')]['user_cancelled'].dropna().sample(n=2600)"
   ]
  },
  {
   "cell_type": "code",
   "execution_count": 11,
   "id": "129f387e",
   "metadata": {},
   "outputs": [],
   "source": [
    "day2_c = android[(android.date == '2020-05-26') & (android.groups == 'Control')]['user_cancelled'].dropna().sample(n=2600)\n",
    "day2_t = android[(android.date == '2020-05-26') & (android.groups == 'Test')]['user_cancelled'].dropna().sample(n=2600)"
   ]
  },
  {
   "cell_type": "code",
   "execution_count": 12,
   "id": "678c3db3",
   "metadata": {},
   "outputs": [],
   "source": [
    "day3_c = android[(android.date == '2020-05-27') & (android.groups == 'Control')]['user_cancelled'].dropna().sample(n=2600)\n",
    "day3_t = android[(android.date == '2020-05-27') & (android.groups == 'Test')]['user_cancelled'].dropna().sample(n=2600)"
   ]
  },
  {
   "cell_type": "code",
   "execution_count": 13,
   "id": "2a3e356c",
   "metadata": {},
   "outputs": [],
   "source": [
    "day4_c = android[(android.date == '2020-05-28') & (android.groups == 'Control')]['user_cancelled'].dropna().sample(n=2600)\n",
    "day4_t = android[(android.date == '2020-05-28') & (android.groups == 'Test')]['user_cancelled'].dropna().sample(n=2600)"
   ]
  },
  {
   "cell_type": "code",
   "execution_count": 14,
   "id": "ec141c12",
   "metadata": {},
   "outputs": [],
   "source": [
    "day5_c = android[(android.date == '2020-05-29') & (android.groups == 'Control')]['user_cancelled'].dropna().sample(n=2600)\n",
    "day5_t = android[(android.date == '2020-05-29') & (android.groups == 'Test')]['user_cancelled'].dropna().sample(n=2600)"
   ]
  },
  {
   "cell_type": "code",
   "execution_count": 15,
   "id": "80c40b9f",
   "metadata": {},
   "outputs": [],
   "source": [
    "day6_c = android[(android.date == '2020-05-30') & (android.groups == 'Control')]['user_cancelled'].dropna().sample(n=2600)\n",
    "day6_t = android[(android.date == '2020-05-30') & (android.groups == 'Test')]['user_cancelled'].dropna().sample(n=2600)"
   ]
  },
  {
   "cell_type": "code",
   "execution_count": 16,
   "id": "806cd6e4",
   "metadata": {},
   "outputs": [],
   "source": [
    "day7_c = android[(android.date == '2020-05-31') & (android.groups == 'Control')]['user_cancelled'].dropna().sample(n=2600)\n",
    "day7_t = android[(android.date == '2020-05-31') & (android.groups == 'Test')]['user_cancelled'].dropna().sample(n=2600)"
   ]
  },
  {
   "cell_type": "code",
   "execution_count": 17,
   "id": "2b73b41e",
   "metadata": {},
   "outputs": [
    {
     "data": {
      "text/plain": [
       "(2600, 2600)"
      ]
     },
     "execution_count": 17,
     "metadata": {},
     "output_type": "execute_result"
    }
   ],
   "source": [
    "len(day1_c), len(day1_t)"
   ]
  },
  {
   "cell_type": "code",
   "execution_count": 18,
   "id": "dc31e796",
   "metadata": {},
   "outputs": [],
   "source": [
    "control = [day1_c, day2_c, day3_c, day4_c, day5_c, day6_c, day7_c]\n",
    "test = [day1_t, day2_t, day3_t, day4_t, day5_t, day6_t, day7_t]"
   ]
  },
  {
   "cell_type": "code",
   "execution_count": 19,
   "id": "89b8e7ed",
   "metadata": {},
   "outputs": [
    {
     "data": {
      "text/plain": [
       "[0.04284150545252369,\n",
       " 0.0001789541412677332,\n",
       " 1.59454383967388e-07,\n",
       " 1.587835151677373e-05,\n",
       " 4.098432653002409e-07,\n",
       " 5.090569761564202e-06,\n",
       " 5.205327872803953e-05]"
      ]
     },
     "execution_count": 19,
     "metadata": {},
     "output_type": "execute_result"
    }
   ],
   "source": [
    "Pvalue = []\n",
    "for i in range(7):\n",
    "    T, p = stats.ttest_ind(control[i], test[i])\n",
    "    Pvalue.append(p)\n",
    "\n",
    "Pvalue"
   ]
  },
  {
   "cell_type": "code",
   "execution_count": 20,
   "id": "113967d8",
   "metadata": {},
   "outputs": [
    {
     "data": {
      "text/plain": [
       "[<matplotlib.lines.Line2D at 0x1f950ce28e0>]"
      ]
     },
     "execution_count": 20,
     "metadata": {},
     "output_type": "execute_result"
    },
    {
     "data": {
      "image/png": "[encoded data removed]",
      "text/plain": [
       "<Figure size 432x288 with 1 Axes>"
      ]
     },
     "metadata": {
      "needs_background": "light"
     },
     "output_type": "display_data"
    }
   ],
   "source": [
    "alpha=0.05\n",
    "\n",
    "fig, ax = plt.subplots() \n",
    "ax.plot(sorted(android['date'].unique()), Pvalue)\n",
    "ax.plot(sorted(android['date'].unique()), [alpha]*7, color='red')"
   ]
  },
  {
   "cell_type": "markdown",
   "id": "c214cd9f",
   "metadata": {},
   "source": [
    "P-value ниже alpha => **предложение промокода юзерам Android при нажатии кнопки отмены заказа приводит к сокращению отмен. Фича работает.**"
   ]
  }
 ],
 "metadata": {
  "kernelspec": {
   "display_name": "Python 3 (ipykernel)",
   "language": "python",
   "name": "python3"
  },
  "language_info": {
   "codemirror_mode": {
    "name": "ipython",
    "version": 3
   },
   "file_extension": ".py",
   "mimetype": "text/x-python",
   "name": "python",
   "nbconvert_exporter": "python",
   "pygments_lexer": "ipython3",
   "version": "3.9.12"
  }
 },
 "nbformat": 4,
 "nbformat_minor": 5
}
