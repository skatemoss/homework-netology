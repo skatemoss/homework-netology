{
 "cells": [
  {
   "cell_type": "markdown",
   "id": "2417d4a8",
   "metadata": {},
   "source": [
    "### Задание:\n",
    "\n",
    "Используя тестовые данные рассчитайте 5 метрик. Для каждой метрики:\n",
    "* Посчитайте среднее\n",
    "* Посчитайте медиану\n",
    "* Посчитайте 95-персентиль\n",
    "* Визуализируйте распределение частотным графиком и “ящиком с усами”.\n"
   ]
  },
  {
   "cell_type": "code",
   "execution_count": 1,
   "id": "1dcdc1de",
   "metadata": {},
   "outputs": [],
   "source": [
    "import pandas as pd\n",
    "import numpy as np\n",
    "import matplotlib.pyplot as plt"
   ]
  },
  {
   "cell_type": "code",
   "execution_count": 2,
   "id": "d1b6836d",
   "metadata": {},
   "outputs": [],
   "source": [
    "df = pd.read_csv('new_dataframe.csv')"
   ]
  },
  {
   "cell_type": "code",
   "execution_count": 3,
   "id": "393f473a",
   "metadata": {},
   "outputs": [
    {
     "name": "stdout",
     "output_type": "stream",
     "text": [
      "<class 'pandas.core.frame.DataFrame'>\n",
      "RangeIndex: 101500 entries, 0 to 101499\n",
      "Data columns (total 15 columns):\n",
      " #   Column             Non-Null Count   Dtype  \n",
      "---  ------             --------------   -----  \n",
      " 0   Unnamed: 0         101500 non-null  int64  \n",
      " 1   user_id            101500 non-null  int64  \n",
      " 2   hour               101500 non-null  int64  \n",
      " 3   os                 101500 non-null  object \n",
      " 4   order_class        101500 non-null  object \n",
      " 5   surge              91431 non-null   object \n",
      " 6   app_opened         101500 non-null  int64  \n",
      " 7   price_seen         101500 non-null  int64  \n",
      " 8   order_made         101500 non-null  int64  \n",
      " 9   ride_completed     101500 non-null  int64  \n",
      " 10  user_cancelled     101500 non-null  int64  \n",
      " 11  city_center_order  101500 non-null  int64  \n",
      " 12  distance           91431 non-null   float64\n",
      " 13  age                101500 non-null  int64  \n",
      " 14  rfm                101500 non-null  object \n",
      "dtypes: float64(1), int64(10), object(4)\n",
      "memory usage: 11.6+ MB\n"
     ]
    }
   ],
   "source": [
    "df.info()"
   ]
  },
  {
   "cell_type": "code",
   "execution_count": 4,
   "id": "52e8b0bc",
   "metadata": {},
   "outputs": [
    {
     "data": {
      "text/html": [
       "<div>\n",
       "<style scoped>\n",
       "    .dataframe tbody tr th:only-of-type {\n",
       "        vertical-align: middle;\n",
       "    }\n",
       "\n",
       "    .dataframe tbody tr th {\n",
       "        vertical-align: top;\n",
       "    }\n",
       "\n",
       "    .dataframe thead th {\n",
       "        text-align: right;\n",
       "    }\n",
       "</style>\n",
       "<table border=\"1\" class=\"dataframe\">\n",
       "  <thead>\n",
       "    <tr style=\"text-align: right;\">\n",
       "      <th></th>\n",
       "      <th>Unnamed: 0</th>\n",
       "      <th>user_id</th>\n",
       "      <th>hour</th>\n",
       "      <th>app_opened</th>\n",
       "      <th>price_seen</th>\n",
       "      <th>order_made</th>\n",
       "      <th>ride_completed</th>\n",
       "      <th>user_cancelled</th>\n",
       "      <th>city_center_order</th>\n",
       "      <th>distance</th>\n",
       "      <th>age</th>\n",
       "    </tr>\n",
       "  </thead>\n",
       "  <tbody>\n",
       "    <tr>\n",
       "      <th>count</th>\n",
       "      <td>101500.000000</td>\n",
       "      <td>101500.000000</td>\n",
       "      <td>101500.000000</td>\n",
       "      <td>101500.0</td>\n",
       "      <td>101500.000000</td>\n",
       "      <td>101500.000000</td>\n",
       "      <td>101500.000000</td>\n",
       "      <td>101500.000000</td>\n",
       "      <td>101500.000000</td>\n",
       "      <td>91431.000000</td>\n",
       "      <td>101500.000000</td>\n",
       "    </tr>\n",
       "    <tr>\n",
       "      <th>mean</th>\n",
       "      <td>50749.500000</td>\n",
       "      <td>549874.802207</td>\n",
       "      <td>11.481429</td>\n",
       "      <td>1.0</td>\n",
       "      <td>0.900798</td>\n",
       "      <td>0.731389</td>\n",
       "      <td>0.620365</td>\n",
       "      <td>0.111025</td>\n",
       "      <td>0.571675</td>\n",
       "      <td>5.371152</td>\n",
       "      <td>25.906384</td>\n",
       "    </tr>\n",
       "    <tr>\n",
       "      <th>std</th>\n",
       "      <td>29300.670499</td>\n",
       "      <td>258600.104176</td>\n",
       "      <td>6.917522</td>\n",
       "      <td>0.0</td>\n",
       "      <td>0.298934</td>\n",
       "      <td>0.443239</td>\n",
       "      <td>0.485299</td>\n",
       "      <td>0.314164</td>\n",
       "      <td>0.494838</td>\n",
       "      <td>4.118531</td>\n",
       "      <td>7.838328</td>\n",
       "    </tr>\n",
       "    <tr>\n",
       "      <th>min</th>\n",
       "      <td>0.000000</td>\n",
       "      <td>100093.000000</td>\n",
       "      <td>0.000000</td>\n",
       "      <td>1.0</td>\n",
       "      <td>0.000000</td>\n",
       "      <td>0.000000</td>\n",
       "      <td>0.000000</td>\n",
       "      <td>0.000000</td>\n",
       "      <td>0.000000</td>\n",
       "      <td>0.010946</td>\n",
       "      <td>18.000000</td>\n",
       "    </tr>\n",
       "    <tr>\n",
       "      <th>25%</th>\n",
       "      <td>25374.750000</td>\n",
       "      <td>328223.000000</td>\n",
       "      <td>5.000000</td>\n",
       "      <td>1.0</td>\n",
       "      <td>1.000000</td>\n",
       "      <td>0.000000</td>\n",
       "      <td>0.000000</td>\n",
       "      <td>0.000000</td>\n",
       "      <td>0.000000</td>\n",
       "      <td>2.438335</td>\n",
       "      <td>20.000000</td>\n",
       "    </tr>\n",
       "    <tr>\n",
       "      <th>50%</th>\n",
       "      <td>50749.500000</td>\n",
       "      <td>548827.000000</td>\n",
       "      <td>11.000000</td>\n",
       "      <td>1.0</td>\n",
       "      <td>1.000000</td>\n",
       "      <td>1.000000</td>\n",
       "      <td>1.000000</td>\n",
       "      <td>0.000000</td>\n",
       "      <td>1.000000</td>\n",
       "      <td>4.279565</td>\n",
       "      <td>24.000000</td>\n",
       "    </tr>\n",
       "    <tr>\n",
       "      <th>75%</th>\n",
       "      <td>76124.250000</td>\n",
       "      <td>773051.000000</td>\n",
       "      <td>17.000000</td>\n",
       "      <td>1.0</td>\n",
       "      <td>1.000000</td>\n",
       "      <td>1.000000</td>\n",
       "      <td>1.000000</td>\n",
       "      <td>0.000000</td>\n",
       "      <td>1.000000</td>\n",
       "      <td>7.129814</td>\n",
       "      <td>29.000000</td>\n",
       "    </tr>\n",
       "    <tr>\n",
       "      <th>max</th>\n",
       "      <td>101499.000000</td>\n",
       "      <td>999978.000000</td>\n",
       "      <td>23.000000</td>\n",
       "      <td>1.0</td>\n",
       "      <td>1.000000</td>\n",
       "      <td>1.000000</td>\n",
       "      <td>1.000000</td>\n",
       "      <td>1.000000</td>\n",
       "      <td>1.000000</td>\n",
       "      <td>40.268966</td>\n",
       "      <td>69.000000</td>\n",
       "    </tr>\n",
       "  </tbody>\n",
       "</table>\n",
       "</div>"
      ],
      "text/plain": [
       "          Unnamed: 0        user_id           hour  app_opened     price_seen  \\\n",
       "count  101500.000000  101500.000000  101500.000000    101500.0  101500.000000   \n",
       "mean    50749.500000  549874.802207      11.481429         1.0       0.900798   \n",
       "std     29300.670499  258600.104176       6.917522         0.0       0.298934   \n",
       "min         0.000000  100093.000000       0.000000         1.0       0.000000   \n",
       "25%     25374.750000  328223.000000       5.000000         1.0       1.000000   \n",
       "50%     50749.500000  548827.000000      11.000000         1.0       1.000000   \n",
       "75%     76124.250000  773051.000000      17.000000         1.0       1.000000   \n",
       "max    101499.000000  999978.000000      23.000000         1.0       1.000000   \n",
       "\n",
       "          order_made  ride_completed  user_cancelled  city_center_order  \\\n",
       "count  101500.000000   101500.000000   101500.000000      101500.000000   \n",
       "mean        0.731389        0.620365        0.111025           0.571675   \n",
       "std         0.443239        0.485299        0.314164           0.494838   \n",
       "min         0.000000        0.000000        0.000000           0.000000   \n",
       "25%         0.000000        0.000000        0.000000           0.000000   \n",
       "50%         1.000000        1.000000        0.000000           1.000000   \n",
       "75%         1.000000        1.000000        0.000000           1.000000   \n",
       "max         1.000000        1.000000        1.000000           1.000000   \n",
       "\n",
       "           distance            age  \n",
       "count  91431.000000  101500.000000  \n",
       "mean       5.371152      25.906384  \n",
       "std        4.118531       7.838328  \n",
       "min        0.010946      18.000000  \n",
       "25%        2.438335      20.000000  \n",
       "50%        4.279565      24.000000  \n",
       "75%        7.129814      29.000000  \n",
       "max       40.268966      69.000000  "
      ]
     },
     "execution_count": 4,
     "metadata": {},
     "output_type": "execute_result"
    }
   ],
   "source": [
    "df.describe()"
   ]
  },
  {
   "cell_type": "code",
   "execution_count": 5,
   "id": "cdfb9f53",
   "metadata": {},
   "outputs": [
    {
     "data": {
      "text/html": [
       "<div>\n",
       "<style scoped>\n",
       "    .dataframe tbody tr th:only-of-type {\n",
       "        vertical-align: middle;\n",
       "    }\n",
       "\n",
       "    .dataframe tbody tr th {\n",
       "        vertical-align: top;\n",
       "    }\n",
       "\n",
       "    .dataframe thead th {\n",
       "        text-align: right;\n",
       "    }\n",
       "</style>\n",
       "<table border=\"1\" class=\"dataframe\">\n",
       "  <thead>\n",
       "    <tr style=\"text-align: right;\">\n",
       "      <th></th>\n",
       "      <th>Unnamed: 0</th>\n",
       "      <th>user_id</th>\n",
       "      <th>hour</th>\n",
       "      <th>os</th>\n",
       "      <th>order_class</th>\n",
       "      <th>surge</th>\n",
       "      <th>app_opened</th>\n",
       "      <th>price_seen</th>\n",
       "      <th>order_made</th>\n",
       "      <th>ride_completed</th>\n",
       "      <th>user_cancelled</th>\n",
       "      <th>city_center_order</th>\n",
       "      <th>distance</th>\n",
       "      <th>age</th>\n",
       "      <th>rfm</th>\n",
       "    </tr>\n",
       "  </thead>\n",
       "  <tbody>\n",
       "    <tr>\n",
       "      <th>0</th>\n",
       "      <td>0</td>\n",
       "      <td>867689</td>\n",
       "      <td>12</td>\n",
       "      <td>iOS</td>\n",
       "      <td>business</td>\n",
       "      <td>no surge</td>\n",
       "      <td>1</td>\n",
       "      <td>1</td>\n",
       "      <td>1</td>\n",
       "      <td>1</td>\n",
       "      <td>0</td>\n",
       "      <td>0</td>\n",
       "      <td>7.982135</td>\n",
       "      <td>20</td>\n",
       "      <td>low</td>\n",
       "    </tr>\n",
       "    <tr>\n",
       "      <th>1</th>\n",
       "      <td>1</td>\n",
       "      <td>752172</td>\n",
       "      <td>5</td>\n",
       "      <td>Android</td>\n",
       "      <td>economy</td>\n",
       "      <td>no surge</td>\n",
       "      <td>1</td>\n",
       "      <td>1</td>\n",
       "      <td>1</td>\n",
       "      <td>1</td>\n",
       "      <td>0</td>\n",
       "      <td>1</td>\n",
       "      <td>2.908468</td>\n",
       "      <td>27</td>\n",
       "      <td>high</td>\n",
       "    </tr>\n",
       "    <tr>\n",
       "      <th>2</th>\n",
       "      <td>2</td>\n",
       "      <td>486559</td>\n",
       "      <td>15</td>\n",
       "      <td>Android</td>\n",
       "      <td>comfort</td>\n",
       "      <td>no surge</td>\n",
       "      <td>1</td>\n",
       "      <td>1</td>\n",
       "      <td>1</td>\n",
       "      <td>1</td>\n",
       "      <td>0</td>\n",
       "      <td>0</td>\n",
       "      <td>7.224614</td>\n",
       "      <td>21</td>\n",
       "      <td>high</td>\n",
       "    </tr>\n",
       "    <tr>\n",
       "      <th>3</th>\n",
       "      <td>3</td>\n",
       "      <td>304024</td>\n",
       "      <td>0</td>\n",
       "      <td>Android</td>\n",
       "      <td>economy</td>\n",
       "      <td>no surge</td>\n",
       "      <td>1</td>\n",
       "      <td>1</td>\n",
       "      <td>1</td>\n",
       "      <td>1</td>\n",
       "      <td>0</td>\n",
       "      <td>1</td>\n",
       "      <td>1.874349</td>\n",
       "      <td>52</td>\n",
       "      <td>low</td>\n",
       "    </tr>\n",
       "    <tr>\n",
       "      <th>4</th>\n",
       "      <td>4</td>\n",
       "      <td>139420</td>\n",
       "      <td>0</td>\n",
       "      <td>Android</td>\n",
       "      <td>business</td>\n",
       "      <td>no surge</td>\n",
       "      <td>1</td>\n",
       "      <td>1</td>\n",
       "      <td>1</td>\n",
       "      <td>1</td>\n",
       "      <td>0</td>\n",
       "      <td>0</td>\n",
       "      <td>10.704778</td>\n",
       "      <td>19</td>\n",
       "      <td>low</td>\n",
       "    </tr>\n",
       "  </tbody>\n",
       "</table>\n",
       "</div>"
      ],
      "text/plain": [
       "   Unnamed: 0  user_id  hour       os order_class     surge  app_opened  \\\n",
       "0           0   867689    12      iOS    business  no surge           1   \n",
       "1           1   752172     5  Android     economy  no surge           1   \n",
       "2           2   486559    15  Android     comfort  no surge           1   \n",
       "3           3   304024     0  Android     economy  no surge           1   \n",
       "4           4   139420     0  Android    business  no surge           1   \n",
       "\n",
       "   price_seen  order_made  ride_completed  user_cancelled  city_center_order  \\\n",
       "0           1           1               1               0                  0   \n",
       "1           1           1               1               0                  1   \n",
       "2           1           1               1               0                  0   \n",
       "3           1           1               1               0                  1   \n",
       "4           1           1               1               0                  0   \n",
       "\n",
       "    distance  age   rfm  \n",
       "0   7.982135   20   low  \n",
       "1   2.908468   27  high  \n",
       "2   7.224614   21  high  \n",
       "3   1.874349   52   low  \n",
       "4  10.704778   19   low  "
      ]
     },
     "execution_count": 5,
     "metadata": {},
     "output_type": "execute_result"
    }
   ],
   "source": [
    "df.head(5)"
   ]
  },
  {
   "cell_type": "markdown",
   "id": "ad2b2937",
   "metadata": {},
   "source": [
    "**Расчет метрик.**\n"
   ]
  },
  {
   "cell_type": "markdown",
   "id": "ad0427c2",
   "metadata": {},
   "source": [
    "*Час заказа*"
   ]
  },
  {
   "cell_type": "code",
   "execution_count": 6,
   "id": "5152142f",
   "metadata": {},
   "outputs": [
    {
     "name": "stdout",
     "output_type": "stream",
     "text": [
      "<class 'pandas.core.frame.DataFrame'>\n",
      "Int64Index: 74236 entries, 0 to 101499\n",
      "Data columns (total 2 columns):\n",
      " #   Column      Non-Null Count  Dtype\n",
      "---  ------      --------------  -----\n",
      " 0   hour        74236 non-null  int64\n",
      " 1   order_made  74236 non-null  int64\n",
      "dtypes: int64(2)\n",
      "memory usage: 1.7 MB\n"
     ]
    }
   ],
   "source": [
    "df_hour = df[['hour', 'order_made']]\n",
    "df_hour = df_hour[df_hour['order_made']>=1]\n",
    "df_hour.info()"
   ]
  },
  {
   "cell_type": "code",
   "execution_count": 7,
   "id": "7fb4072b",
   "metadata": {},
   "outputs": [
    {
     "data": {
      "text/plain": [
       "11.376246026186756"
      ]
     },
     "execution_count": 7,
     "metadata": {},
     "output_type": "execute_result"
    }
   ],
   "source": [
    "# среднее значение\n",
    "df_hour['hour'].mean()"
   ]
  },
  {
   "cell_type": "code",
   "execution_count": 8,
   "id": "80986391",
   "metadata": {},
   "outputs": [
    {
     "data": {
      "text/plain": [
       "11.0"
      ]
     },
     "execution_count": 8,
     "metadata": {},
     "output_type": "execute_result"
    }
   ],
   "source": [
    "# медиана\n",
    "df_hour['hour'].median()"
   ]
  },
  {
   "cell_type": "code",
   "execution_count": 9,
   "id": "870f1785",
   "metadata": {},
   "outputs": [
    {
     "data": {
      "text/plain": [
       "22.0"
      ]
     },
     "execution_count": 9,
     "metadata": {},
     "output_type": "execute_result"
    }
   ],
   "source": [
    "# 95-персентиль\n",
    "df_hour['hour'].quantile(q=0.95)"
   ]
  },
  {
   "cell_type": "code",
   "execution_count": 10,
   "id": "33070fcc",
   "metadata": {},
   "outputs": [
    {
     "data": {
      "text/plain": [
       "(array([3214., 3212., 3249., 3214., 3324., 3334., 3207., 2729., 2566.,\n",
       "        2662., 3218., 3220., 3250., 3312., 3200., 3205., 3147., 3207.,\n",
       "        3265., 2609., 2714., 2752., 3235., 3191.]),\n",
       " array([ 0.        ,  0.95833333,  1.91666667,  2.875     ,  3.83333333,\n",
       "         4.79166667,  5.75      ,  6.70833333,  7.66666667,  8.625     ,\n",
       "         9.58333333, 10.54166667, 11.5       , 12.45833333, 13.41666667,\n",
       "        14.375     , 15.33333333, 16.29166667, 17.25      , 18.20833333,\n",
       "        19.16666667, 20.125     , 21.08333333, 22.04166667, 23.        ]),\n",
       " <BarContainer object of 24 artists>)"
      ]
     },
     "execution_count": 10,
     "metadata": {},
     "output_type": "execute_result"
    },
    {
     "data": {
      "image/png": "[encoded data removed]",
      "text/plain": [
       "<Figure size 432x288 with 1 Axes>"
      ]
     },
     "metadata": {
      "needs_background": "light"
     },
     "output_type": "display_data"
    }
   ],
   "source": [
    "# гистограмма\n",
    "plt.hist(df_hour['hour'], bins=24)"
   ]
  },
  {
   "cell_type": "code",
   "execution_count": 11,
   "id": "3019531b",
   "metadata": {},
   "outputs": [
    {
     "data": {
      "text/plain": [
       "{'whiskers': [<matplotlib.lines.Line2D at 0x2bca236b130>,\n",
       "  <matplotlib.lines.Line2D at 0x2bca236b400>],\n",
       " 'caps': [<matplotlib.lines.Line2D at 0x2bca236b790>,\n",
       "  <matplotlib.lines.Line2D at 0x2bca236b9a0>],\n",
       " 'boxes': [<matplotlib.lines.Line2D at 0x2bca2359df0>],\n",
       " 'medians': [<matplotlib.lines.Line2D at 0x2bca236bc70>],\n",
       " 'fliers': [<matplotlib.lines.Line2D at 0x2bca236bf40>],\n",
       " 'means': []}"
      ]
     },
     "execution_count": 11,
     "metadata": {},
     "output_type": "execute_result"
    },
    {
     "data": {
      "image/png": "[encoded data removed]",
      "text/plain": [
       "<Figure size 360x360 with 1 Axes>"
      ]
     },
     "metadata": {
      "needs_background": "light"
     },
     "output_type": "display_data"
    }
   ],
   "source": [
    "# ящик с усами\n",
    "fig = plt.figure(figsize=(5, 5))\n",
    "plt.boxplot(df_hour['hour'])"
   ]
  },
  {
   "cell_type": "markdown",
   "id": "a0d4dbfe",
   "metadata": {},
   "source": [
    "*Дистанция*"
   ]
  },
  {
   "cell_type": "code",
   "execution_count": 12,
   "id": "2083620a",
   "metadata": {},
   "outputs": [
    {
     "name": "stdout",
     "output_type": "stream",
     "text": [
      "<class 'pandas.core.frame.DataFrame'>\n",
      "Int64Index: 74236 entries, 0 to 101499\n",
      "Data columns (total 2 columns):\n",
      " #   Column      Non-Null Count  Dtype  \n",
      "---  ------      --------------  -----  \n",
      " 0   distance    74236 non-null  float64\n",
      " 1   order_made  74236 non-null  int64  \n",
      "dtypes: float64(1), int64(1)\n",
      "memory usage: 1.7 MB\n"
     ]
    }
   ],
   "source": [
    "df_distance = df[['distance', 'order_made']]\n",
    "df_distance = df_distance[df_distance['order_made']>=1]\n",
    "df_distance.info()"
   ]
  },
  {
   "cell_type": "code",
   "execution_count": 13,
   "id": "d68d4abc",
   "metadata": {},
   "outputs": [
    {
     "data": {
      "text/plain": [
       "5.367276962171612"
      ]
     },
     "execution_count": 13,
     "metadata": {},
     "output_type": "execute_result"
    }
   ],
   "source": [
    "# среднее значение\n",
    "df_distance['distance'].mean()"
   ]
  },
  {
   "cell_type": "code",
   "execution_count": 14,
   "id": "b505de42",
   "metadata": {},
   "outputs": [
    {
     "data": {
      "text/plain": [
       "4.2687265259992895"
      ]
     },
     "execution_count": 14,
     "metadata": {},
     "output_type": "execute_result"
    }
   ],
   "source": [
    "# медиана\n",
    "df_distance['distance'].median()"
   ]
  },
  {
   "cell_type": "code",
   "execution_count": 15,
   "id": "e6f70216",
   "metadata": {},
   "outputs": [
    {
     "data": {
      "text/plain": [
       "13.76902444579496"
      ]
     },
     "execution_count": 15,
     "metadata": {},
     "output_type": "execute_result"
    }
   ],
   "source": [
    "# 95-персентиль\n",
    "df_distance['distance'].quantile(q=0.95)"
   ]
  },
  {
   "cell_type": "code",
   "execution_count": 16,
   "id": "879054da",
   "metadata": {},
   "outputs": [
    {
     "data": {
      "text/plain": [
       "(array([3.3269e+04, 2.4866e+04, 9.7160e+03, 3.9330e+03, 1.6290e+03,\n",
       "        5.6300e+02, 1.8500e+02, 6.6000e+01, 6.0000e+00, 3.0000e+00]),\n",
       " array([1.09464561e-02, 3.84823243e+00, 7.68551841e+00, 1.15228044e+01,\n",
       "        1.53600904e+01, 1.91973763e+01, 2.30346623e+01, 2.68719483e+01,\n",
       "        3.07092343e+01, 3.45465202e+01, 3.83838062e+01]),\n",
       " <BarContainer object of 10 artists>)"
      ]
     },
     "execution_count": 16,
     "metadata": {},
     "output_type": "execute_result"
    },
    {
     "data": {
      "image/png": "[encoded data removed]",
      "text/plain": [
       "<Figure size 432x288 with 1 Axes>"
      ]
     },
     "metadata": {
      "needs_background": "light"
     },
     "output_type": "display_data"
    }
   ],
   "source": [
    "# гистограмма\n",
    "plt.hist(df_distance['distance'])"
   ]
  },
  {
   "cell_type": "code",
   "execution_count": 17,
   "id": "a43c5dba",
   "metadata": {},
   "outputs": [
    {
     "data": {
      "text/plain": [
       "{'whiskers': [<matplotlib.lines.Line2D at 0x2bca2451dc0>,\n",
       "  <matplotlib.lines.Line2D at 0x2bca245f0d0>],\n",
       " 'caps': [<matplotlib.lines.Line2D at 0x2bca245f3a0>,\n",
       "  <matplotlib.lines.Line2D at 0x2bca245f670>],\n",
       " 'boxes': [<matplotlib.lines.Line2D at 0x2bca2451ac0>],\n",
       " 'medians': [<matplotlib.lines.Line2D at 0x2bca245f940>],\n",
       " 'fliers': [<matplotlib.lines.Line2D at 0x2bca245fc10>],\n",
       " 'means': []}"
      ]
     },
     "execution_count": 17,
     "metadata": {},
     "output_type": "execute_result"
    },
    {
     "data": {
      "image/png": "[encoded data removed]",
      "text/plain": [
       "<Figure size 360x360 with 1 Axes>"
      ]
     },
     "metadata": {
      "needs_background": "light"
     },
     "output_type": "display_data"
    }
   ],
   "source": [
    "# ящик с усами\n",
    "fig = plt.figure(figsize=(5, 5))\n",
    "plt.boxplot(df_distance['distance'])"
   ]
  },
  {
   "cell_type": "markdown",
   "id": "b3b5bf78",
   "metadata": {},
   "source": [
    "*Возраст*"
   ]
  },
  {
   "cell_type": "code",
   "execution_count": 18,
   "id": "f2b8b58b",
   "metadata": {},
   "outputs": [
    {
     "name": "stdout",
     "output_type": "stream",
     "text": [
      "<class 'pandas.core.frame.DataFrame'>\n",
      "Int64Index: 24224 entries, 0 to 101488\n",
      "Data columns (total 2 columns):\n",
      " #   Column   Non-Null Count  Dtype\n",
      "---  ------   --------------  -----\n",
      " 0   user_id  24224 non-null  int64\n",
      " 1   age      24224 non-null  int64\n",
      "dtypes: int64(2)\n",
      "memory usage: 567.8 KB\n"
     ]
    }
   ],
   "source": [
    "df_age=df[['user_id', 'age']].drop_duplicates()\n",
    "df_age.info()"
   ]
  },
  {
   "cell_type": "code",
   "execution_count": 19,
   "id": "6ea5df50",
   "metadata": {},
   "outputs": [
    {
     "data": {
      "text/plain": [
       "27.852130118890358"
      ]
     },
     "execution_count": 19,
     "metadata": {},
     "output_type": "execute_result"
    }
   ],
   "source": [
    "# среднее значение\n",
    "df_age['age'].mean()"
   ]
  },
  {
   "cell_type": "code",
   "execution_count": 20,
   "id": "c28e9807",
   "metadata": {},
   "outputs": [
    {
     "data": {
      "text/plain": [
       "25.0"
      ]
     },
     "execution_count": 20,
     "metadata": {},
     "output_type": "execute_result"
    }
   ],
   "source": [
    "# медиана\n",
    "df_age['age'].median()"
   ]
  },
  {
   "cell_type": "code",
   "execution_count": 21,
   "id": "3324d13a",
   "metadata": {},
   "outputs": [
    {
     "data": {
      "text/plain": [
       "48.0"
      ]
     },
     "execution_count": 21,
     "metadata": {},
     "output_type": "execute_result"
    }
   ],
   "source": [
    "# 95-пересентиль\n",
    "df_age['age'].quantile(q=0.95)"
   ]
  },
  {
   "cell_type": "code",
   "execution_count": 22,
   "id": "e735aa92",
   "metadata": {},
   "outputs": [
    {
     "data": {
      "text/plain": [
       "(array([10364.,  5195.,  3207.,  2104.,  1329.,   878.,   583.,   378.,\n",
       "          117.,    69.]),\n",
       " array([18. , 23.1, 28.2, 33.3, 38.4, 43.5, 48.6, 53.7, 58.8, 63.9, 69. ]),\n",
       " <BarContainer object of 10 artists>)"
      ]
     },
     "execution_count": 22,
     "metadata": {},
     "output_type": "execute_result"
    },
    {
     "data": {
      "image/png": "[encoded data removed]",
      "text/plain": [
       "<Figure size 432x288 with 1 Axes>"
      ]
     },
     "metadata": {
      "needs_background": "light"
     },
     "output_type": "display_data"
    }
   ],
   "source": [
    "# гистограмма\n",
    "plt.hist(df_age['age'])"
   ]
  },
  {
   "cell_type": "code",
   "execution_count": 23,
   "id": "54d52c57",
   "metadata": {},
   "outputs": [
    {
     "data": {
      "text/plain": [
       "{'whiskers': [<matplotlib.lines.Line2D at 0x2bca2536f10>,\n",
       "  <matplotlib.lines.Line2D at 0x2bca2546220>],\n",
       " 'caps': [<matplotlib.lines.Line2D at 0x2bca25464f0>,\n",
       "  <matplotlib.lines.Line2D at 0x2bca25467c0>],\n",
       " 'boxes': [<matplotlib.lines.Line2D at 0x2bca2536c40>],\n",
       " 'medians': [<matplotlib.lines.Line2D at 0x2bca2546a90>],\n",
       " 'fliers': [<matplotlib.lines.Line2D at 0x2bca2546d60>],\n",
       " 'means': []}"
      ]
     },
     "execution_count": 23,
     "metadata": {},
     "output_type": "execute_result"
    },
    {
     "data": {
      "image/png": "[encoded data removed]",
      "text/plain": [
       "<Figure size 360x360 with 1 Axes>"
      ]
     },
     "metadata": {
      "needs_background": "light"
     },
     "output_type": "display_data"
    }
   ],
   "source": [
    "# ящик с усами\n",
    "fig = plt.figure(figsize=(5, 5))\n",
    "plt.boxplot(df_age['age'])"
   ]
  },
  {
   "cell_type": "markdown",
   "id": "dc85312a",
   "metadata": {},
   "source": [
    "*Дистанция заказов из центра города*"
   ]
  },
  {
   "cell_type": "code",
   "execution_count": 24,
   "id": "425e6cf1",
   "metadata": {},
   "outputs": [
    {
     "name": "stdout",
     "output_type": "stream",
     "text": [
      "<class 'pandas.core.frame.DataFrame'>\n",
      "Int64Index: 44491 entries, 1 to 101496\n",
      "Data columns (total 3 columns):\n",
      " #   Column             Non-Null Count  Dtype  \n",
      "---  ------             --------------  -----  \n",
      " 0   order_made         44491 non-null  int64  \n",
      " 1   city_center_order  44491 non-null  int64  \n",
      " 2   distance           44491 non-null  float64\n",
      "dtypes: float64(1), int64(2)\n",
      "memory usage: 1.4 MB\n"
     ]
    }
   ],
   "source": [
    "df_centre = df[['order_made', 'city_center_order', 'distance']]\n",
    "df_centre = df_centre[((df_centre['city_center_order']>=1) & (df_centre['order_made']>=1))]\n",
    "df_centre.info()"
   ]
  },
  {
   "cell_type": "code",
   "execution_count": 25,
   "id": "af522a49",
   "metadata": {},
   "outputs": [
    {
     "data": {
      "text/plain": [
       "5.381569331682024"
      ]
     },
     "execution_count": 25,
     "metadata": {},
     "output_type": "execute_result"
    }
   ],
   "source": [
    "# среднее значение\n",
    "df_centre['distance'].mean()"
   ]
  },
  {
   "cell_type": "code",
   "execution_count": 26,
   "id": "2eb0dacd",
   "metadata": {},
   "outputs": [
    {
     "data": {
      "text/plain": [
       "4.300468766684748"
      ]
     },
     "execution_count": 26,
     "metadata": {},
     "output_type": "execute_result"
    }
   ],
   "source": [
    "# медиана\n",
    "df_centre['distance'].median()"
   ]
  },
  {
   "cell_type": "code",
   "execution_count": 27,
   "id": "eeb8e16d",
   "metadata": {},
   "outputs": [
    {
     "data": {
      "text/plain": [
       "13.733723588341704"
      ]
     },
     "execution_count": 27,
     "metadata": {},
     "output_type": "execute_result"
    }
   ],
   "source": [
    "# 95-персентиль\n",
    "df_centre['distance'].quantile(q=0.95)"
   ]
  },
  {
   "cell_type": "code",
   "execution_count": 28,
   "id": "39f623cb",
   "metadata": {},
   "outputs": [
    {
     "data": {
      "text/plain": [
       "(array([1.7704e+04, 1.5226e+04, 6.5910e+03, 2.8430e+03, 1.3030e+03,\n",
       "        5.3600e+02, 1.8600e+02, 6.7000e+01, 2.9000e+01, 6.0000e+00]),\n",
       " array([2.57613011e-02, 3.49858501e+00, 6.97140873e+00, 1.04442324e+01,\n",
       "        1.39170562e+01, 1.73898799e+01, 2.08627036e+01, 2.43355273e+01,\n",
       "        2.78083510e+01, 3.12811747e+01, 3.47539984e+01]),\n",
       " <BarContainer object of 10 artists>)"
      ]
     },
     "execution_count": 28,
     "metadata": {},
     "output_type": "execute_result"
    },
    {
     "data": {
      "image/png": "[encoded data removed]",
      "text/plain": [
       "<Figure size 432x288 with 1 Axes>"
      ]
     },
     "metadata": {
      "needs_background": "light"
     },
     "output_type": "display_data"
    }
   ],
   "source": [
    "# гистограмма\n",
    "plt.hist(df_centre['distance'])"
   ]
  },
  {
   "cell_type": "code",
   "execution_count": 29,
   "id": "424fd21b",
   "metadata": {},
   "outputs": [
    {
     "data": {
      "text/plain": [
       "{'whiskers': [<matplotlib.lines.Line2D at 0x2bca261d7f0>,\n",
       "  <matplotlib.lines.Line2D at 0x2bca261daf0>],\n",
       " 'caps': [<matplotlib.lines.Line2D at 0x2bca261ddc0>,\n",
       "  <matplotlib.lines.Line2D at 0x2bca262b0d0>],\n",
       " 'boxes': [<matplotlib.lines.Line2D at 0x2bca261d520>],\n",
       " 'medians': [<matplotlib.lines.Line2D at 0x2bca262b3a0>],\n",
       " 'fliers': [<matplotlib.lines.Line2D at 0x2bca262b670>],\n",
       " 'means': []}"
      ]
     },
     "execution_count": 29,
     "metadata": {},
     "output_type": "execute_result"
    },
    {
     "data": {
      "image/png": "[encoded data removed]",
      "text/plain": [
       "<Figure size 360x360 with 1 Axes>"
      ]
     },
     "metadata": {
      "needs_background": "light"
     },
     "output_type": "display_data"
    }
   ],
   "source": [
    "# ящик с усами\n",
    "fig = plt.figure(figsize=(5, 5))\n",
    "plt.boxplot(df_centre['distance'])"
   ]
  },
  {
   "cell_type": "markdown",
   "id": "e1299a80",
   "metadata": {},
   "source": [
    "*Количество отменённых заказов на пользователя*"
   ]
  },
  {
   "cell_type": "code",
   "execution_count": 30,
   "id": "25dbb28d",
   "metadata": {},
   "outputs": [
    {
     "name": "stdout",
     "output_type": "stream",
     "text": [
      "<class 'pandas.core.frame.DataFrame'>\n",
      "Int64Index: 11269 entries, 22 to 101493\n",
      "Data columns (total 3 columns):\n",
      " #   Column          Non-Null Count  Dtype\n",
      "---  ------          --------------  -----\n",
      " 0   order_made      11269 non-null  int64\n",
      " 1   user_cancelled  11269 non-null  int64\n",
      " 2   user_id         11269 non-null  int64\n",
      "dtypes: int64(3)\n",
      "memory usage: 352.2 KB\n"
     ]
    }
   ],
   "source": [
    "df_all_cancelled = df[['order_made', 'user_cancelled', 'user_id']]\n",
    "df_all_cancelled = df_all_cancelled[((df_all_cancelled['order_made']>=1) & (df_all_cancelled['user_cancelled']>=1))]\n",
    "df_all_cancelled.info()"
   ]
  },
  {
   "cell_type": "code",
   "execution_count": 31,
   "id": "957f1835",
   "metadata": {},
   "outputs": [],
   "source": [
    "df_cancelled = pd.pivot_table(df_all_cancelled, index='user_id', values='user_cancelled', aggfunc='count')"
   ]
  },
  {
   "cell_type": "code",
   "execution_count": 32,
   "id": "30202147",
   "metadata": {},
   "outputs": [
    {
     "data": {
      "text/plain": [
       "1.2461572487006525"
      ]
     },
     "execution_count": 32,
     "metadata": {},
     "output_type": "execute_result"
    }
   ],
   "source": [
    "# среднее значение\n",
    "df_cancelled['user_cancelled'].mean()"
   ]
  },
  {
   "cell_type": "code",
   "execution_count": 33,
   "id": "108bcc1a",
   "metadata": {},
   "outputs": [
    {
     "data": {
      "text/plain": [
       "1.0"
      ]
     },
     "execution_count": 33,
     "metadata": {},
     "output_type": "execute_result"
    }
   ],
   "source": [
    "# медиана\n",
    "df_cancelled['user_cancelled'].median()"
   ]
  },
  {
   "cell_type": "code",
   "execution_count": 34,
   "id": "660fc812",
   "metadata": {},
   "outputs": [
    {
     "data": {
      "text/plain": [
       "2.0"
      ]
     },
     "execution_count": 34,
     "metadata": {},
     "output_type": "execute_result"
    }
   ],
   "source": [
    "# 95-персентиль\n",
    "df_cancelled['user_cancelled'].quantile(q=0.95)"
   ]
  },
  {
   "cell_type": "code",
   "execution_count": 35,
   "id": "8e2c2abd",
   "metadata": {},
   "outputs": [
    {
     "data": {
      "text/plain": [
       "(array([7.143e+03, 0.000e+00, 1.610e+03, 0.000e+00, 0.000e+00, 2.590e+02,\n",
       "        0.000e+00, 2.600e+01, 0.000e+00, 5.000e+00]),\n",
       " array([1. , 1.4, 1.8, 2.2, 2.6, 3. , 3.4, 3.8, 4.2, 4.6, 5. ]),\n",
       " <BarContainer object of 10 artists>)"
      ]
     },
     "execution_count": 35,
     "metadata": {},
     "output_type": "execute_result"
    },
    {
     "data": {
      "image/png": "[encoded data removed]",
      "text/plain": [
       "<Figure size 432x288 with 1 Axes>"
      ]
     },
     "metadata": {
      "needs_background": "light"
     },
     "output_type": "display_data"
    }
   ],
   "source": [
    "# гистограмма\n",
    "plt.hist(df_cancelled['user_cancelled'])"
   ]
  },
  {
   "cell_type": "code",
   "execution_count": 36,
   "id": "8419f5cf",
   "metadata": {},
   "outputs": [
    {
     "data": {
      "text/plain": [
       "{'whiskers': [<matplotlib.lines.Line2D at 0x2bca2717400>,\n",
       "  <matplotlib.lines.Line2D at 0x2bca27176d0>],\n",
       " 'caps': [<matplotlib.lines.Line2D at 0x2bca27179a0>,\n",
       "  <matplotlib.lines.Line2D at 0x2bca2717c70>],\n",
       " 'boxes': [<matplotlib.lines.Line2D at 0x2bca2717130>],\n",
       " 'medians': [<matplotlib.lines.Line2D at 0x2bca2717f40>],\n",
       " 'fliers': [<matplotlib.lines.Line2D at 0x2bca2723250>],\n",
       " 'means': []}"
      ]
     },
     "execution_count": 36,
     "metadata": {},
     "output_type": "execute_result"
    },
    {
     "data": {
      "image/png": "[encoded data removed]",
      "text/plain": [
       "<Figure size 360x360 with 1 Axes>"
      ]
     },
     "metadata": {
      "needs_background": "light"
     },
     "output_type": "display_data"
    }
   ],
   "source": [
    "# ящик с усами\n",
    "fig = plt.figure(figsize=(5, 5))\n",
    "plt.boxplot(df_cancelled['user_cancelled'])"
   ]
  }
 ],
 "metadata": {
  "kernelspec": {
   "display_name": "Python 3 (ipykernel)",
   "language": "python",
   "name": "python3"
  },
  "language_info": {
   "codemirror_mode": {
    "name": "ipython",
    "version": 3
   },
   "file_extension": ".py",
   "mimetype": "text/x-python",
   "name": "python",
   "nbconvert_exporter": "python",
   "pygments_lexer": "ipython3",
   "version": "3.9.12"
  }
 },
 "nbformat": 4,
 "nbformat_minor": 5
}
