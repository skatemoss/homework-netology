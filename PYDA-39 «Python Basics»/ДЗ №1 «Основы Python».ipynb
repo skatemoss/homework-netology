{
  "nbformat": 4,
  "nbformat_minor": 0,
  "metadata": {
    "colab": {
      "provenance": []
    },
    "kernelspec": {
      "name": "python3",
      "display_name": "Python 3"
    },
    "language_info": {
      "name": "python"
    }
  },
  "cells": [
    {
      "cell_type": "markdown",
      "source": [
        "**Задание № 1**"
      ],
      "metadata": {
        "id": "M1jlWMYuHPnw"
      }
    },
    {
      "cell_type": "code",
      "source": [
        "phrase_1 = input('Введите фразу 1: ')\n",
        "phrase_2 = input('Введите фразу 2: ')\n",
        "if len(phrase_1) > len(phrase_2):\n",
        "  print('Фраза 1 длиннее фразы 2')\n",
        "elif len(phrase_1) < len(phrase_2):\n",
        "  print('Фраза 2 длиннее фразы 1')\n",
        "else:\n",
        "  print('Фразы равной длины')"
      ],
      "metadata": {
        "colab": {
          "base_uri": "https://localhost:8080/"
        },
        "id": "JmFGnzEOFpeN",
        "outputId": "c27a4cb0-07d7-49f2-d8f7-02ae3f2325ce"
      },
      "execution_count": 3,
      "outputs": [
        {
          "output_type": "stream",
          "name": "stdout",
          "text": [
            "Введите фразу 1: бинокль\n",
            "Введите фразу 2: монокль\n",
            "Фразы равной длины\n"
          ]
        }
      ]
    },
    {
      "cell_type": "markdown",
      "source": [
        "**Задание № 2**"
      ],
      "metadata": {
        "id": "8MmCHEPuHUdE"
      }
    },
    {
      "cell_type": "code",
      "source": [
        "year = int(input())\n",
        "if (year % 4 == 0) and (year % 100 != 0) or (year % 400 == 0):\n",
        "    print('Високосный год')\n",
        "else:\n",
        "    print('Обычный год')"
      ],
      "metadata": {
        "colab": {
          "base_uri": "https://localhost:8080/"
        },
        "id": "k6NpoMV6F5Yw",
        "outputId": "ea9d3516-4b37-465e-d33b-32854566ca70"
      },
      "execution_count": 4,
      "outputs": [
        {
          "output_type": "stream",
          "name": "stdout",
          "text": [
            "2008\n",
            "Високосный год\n"
          ]
        }
      ]
    },
    {
      "cell_type": "markdown",
      "source": [
        "**Задание № 3**"
      ],
      "metadata": {
        "id": "UtBh_rGQHXSr"
      }
    },
    {
      "cell_type": "code",
      "source": [
        "signs = {\"март\": (21, \"Рыбы\", \"Овен\"), \"апрель\": (21, \"Овен\", \"Телец\"), \"май\": (22, \"Телец\", \"Близнецы\"),\n",
        "        \"июнь\": (22, \"Близнецы\", \"Рак\"), \"июль\": (23, \"Рак\", \"Лев\"), \"август\": (24, \"Лев\", \"Дева\"),\n",
        "        \"сентябрь\": (24, \"Дева\", \"Весы\"), \"октябрь\": (24, \"Весы\", \"Скорпион\"),\n",
        "        \"ноябрь\": (23, \"Скорпион\", \"Стрелец\"), \"декабрь\": (23, \"Стрелец\", \"Козерог\"),\n",
        "        \"январь\": (21, \"Козерог\", \"Водолей\"), \"февраль\": (20, \"Водолей\",\"Рыбы\")}\n",
        " \n",
        "\n",
        "day, month = int(input(\"Введите день \")), input(\"Введите месяц \")\n",
        "print(signs[month][2]) if (day >= signs[month][0]) else print(signs[month][1])"
      ],
      "metadata": {
        "colab": {
          "base_uri": "https://localhost:8080/"
        },
        "id": "geaKlPAQGifz",
        "outputId": "74603d38-7fcb-4540-fab7-ff4eae6d2d39"
      },
      "execution_count": 5,
      "outputs": [
        {
          "output_type": "stream",
          "name": "stdout",
          "text": [
            "Введите день 27\n",
            "Введите месяц февраль\n",
            "Рыбы\n"
          ]
        }
      ]
    },
    {
      "cell_type": "markdown",
      "source": [
        "**Задание № 4**"
      ],
      "metadata": {
        "id": "89M5iEG5ICQ4"
      }
    },
    {
      "cell_type": "code",
      "source": [
        "width = int(input('Введите ширину (в сантиметрах): '))\n",
        "length = int(input('Введите длину (в сантиметрах): '))\n",
        "height = int(input('Введите высоту (в сантиметрах): '))\n",
        "if width <= 15 and length <= 15 and height <= 15:\n",
        "  print('Коробка №1')\n",
        "elif 50 < width < 15 or 50 < length < 15 or 50 < height < 15:\n",
        "  print('Коробка №2')\n",
        "elif length > 200:\n",
        "  print('Упаковка для лыж')\n",
        "else:\n",
        "  print('Коробка №3')"
      ],
      "metadata": {
        "colab": {
          "base_uri": "https://localhost:8080/"
        },
        "id": "lUe990K_HOBz",
        "outputId": "918ff505-5237-4a83-ce15-b4317a367340"
      },
      "execution_count": 6,
      "outputs": [
        {
          "output_type": "stream",
          "name": "stdout",
          "text": [
            "Введите ширину (в сантиметрах): 15\n",
            "Введите длину (в сантиметрах): 15\n",
            "Введите высоту (в сантиметрах): 15\n",
            "Коробка №1\n"
          ]
        }
      ]
    },
    {
      "cell_type": "markdown",
      "source": [
        "Задание № 5"
      ],
      "metadata": {
        "id": "WYD7hBY_INT_"
      }
    },
    {
      "cell_type": "code",
      "source": [
        "number = int(input('Введите число: '))\n",
        "\n",
        "first_three_numbers = number // 1000\n",
        "one = first_three_numbers // 100\n",
        "two = first_three_numbers // 10 % 10\n",
        "three = first_three_numbers % 10\n",
        "\n",
        "last_three_numbers = number % 1000\n",
        "four = last_three_numbers // 100\n",
        "five = last_three_numbers // 10 % 10\n",
        "six = last_three_numbers % 10\n",
        "\n",
        "if (one + two + three) == (four + five + six):\n",
        "  print('Счастливый билет')\n",
        "else:\n",
        "  print('Несчастливый билет')"
      ],
      "metadata": {
        "colab": {
          "base_uri": "https://localhost:8080/"
        },
        "id": "RDEwNwGWIKrn",
        "outputId": "2a554319-91dc-4e66-8fa8-1c6f1382dcc6"
      },
      "execution_count": 7,
      "outputs": [
        {
          "output_type": "stream",
          "name": "stdout",
          "text": [
            "Введите число: 222111\n",
            "Несчастливый билет\n"
          ]
        }
      ]
    },
    {
      "cell_type": "markdown",
      "source": [
        "**Задание № 6**"
      ],
      "metadata": {
        "id": "Z708hPlPJyAg"
      }
    },
    {
      "cell_type": "code",
      "source": [
        "import math\n",
        "figure = input('Введите тип фигуры: ')\n",
        "if figure == 'Круг' or figure == 'круг':\n",
        "  radius = int(input('Введите радиус круга: '))\n",
        "  print('Площадь круга: ', round(math.pi*(radius**2),2))\n",
        "elif figure == 'Треугольник' or figure == 'треугольник':\n",
        "  a = int(input('Введите длину стороны А: '))\n",
        "  b = int(input('Введите длину стороны B: '))\n",
        "  c = int(input('Введите длину стороны C: '))\n",
        "  p = (a+b+c)/2\n",
        "  print('Площадь треугольника: ', round(((p*(p-a)*(p-b)*(p-c))**0.5),2))\n",
        "elif figure == 'Прямоугольник' or figure == 'прямоугольник':\n",
        "  a = int(input('Введите длину стороны А: '))\n",
        "  b = int(input('Введите длину стороны B: '))\n",
        "  print('Площадь прямоугольника: ', round((a*b),2))\n",
        "else:\n",
        "  print('Ошибка при введении данных')"
      ],
      "metadata": {
        "colab": {
          "base_uri": "https://localhost:8080/"
        },
        "id": "QlEQRSLsJ0Yc",
        "outputId": "fb713c8e-f07e-40a2-df4c-08a938176c67"
      },
      "execution_count": 8,
      "outputs": [
        {
          "output_type": "stream",
          "name": "stdout",
          "text": [
            "Введите тип фигуры: круг\n",
            "Введите радиус круга: 5\n",
            "Площадь круга:  78.54\n"
          ]
        }
      ]
    }
  ]
}