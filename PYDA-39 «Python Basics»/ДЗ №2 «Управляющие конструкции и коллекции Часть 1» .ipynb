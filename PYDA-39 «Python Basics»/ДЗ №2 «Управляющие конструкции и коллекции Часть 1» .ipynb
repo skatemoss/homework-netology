{
  "nbformat": 4,
  "nbformat_minor": 0,
  "metadata": {
    "colab": {
      "provenance": []
    },
    "kernelspec": {
      "name": "python3",
      "display_name": "Python 3"
    },
    "language_info": {
      "name": "python"
    }
  },
  "cells": [
    {
      "cell_type": "markdown",
      "source": [
        "### Задание 1\n",
        "\n",
        "Дана переменная, в которой хранится слово из латинских букв. Напишите код, который выводит на экран:\n",
        "\n",
        "*   среднюю букву, если число букв в слове нечетное;\n",
        "*   две средних буквы, если число букв четное.\n",
        "\n"
      ],
      "metadata": {
        "id": "Hitp2wlglgY-"
      }
    },
    {
      "cell_type": "markdown",
      "source": [
        "### Решение"
      ],
      "metadata": {
        "id": "k7tF5DBqxa2T"
      }
    },
    {
      "cell_type": "code",
      "source": [
        "word = input('Введите слово: ')\n",
        "print(word[(len(word)-1)//2:(len(word)+2)//2])"
      ],
      "metadata": {
        "colab": {
          "base_uri": "https://localhost:8080/"
        },
        "id": "_oCR1Pf4mWui",
        "outputId": "5b24613d-6bd9-418f-9b78-e7f74e357068"
      },
      "execution_count": 3,
      "outputs": [
        {
          "output_type": "stream",
          "name": "stdout",
          "text": [
            "Введите слово: test\n",
            "es\n"
          ]
        }
      ]
    },
    {
      "cell_type": "markdown",
      "source": [
        "### Задание 2\n",
        "\n",
        "Напишите программу, которая последовательно запрашивает у пользователя числа (по одному за раз) и после первого нуля выводит сумму всех ранее введенных чисел."
      ],
      "metadata": {
        "id": "dYVIFGWtqnaw"
      }
    },
    {
      "cell_type": "markdown",
      "source": [
        "### Решение"
      ],
      "metadata": {
        "id": "sS5ZpNdmxgT4"
      }
    },
    {
      "cell_type": "code",
      "source": [
        "x = int(input('Введите число: '))\n",
        "total = 0\n",
        "\n",
        "while x != 0:\n",
        "  total += x\n",
        "  x = int(input('Введите число: '))\n",
        "  \n",
        "print('Результат: ', total)"
      ],
      "metadata": {
        "colab": {
          "base_uri": "https://localhost:8080/"
        },
        "id": "HcQkbz_Fq1Ks",
        "outputId": "878a5703-ae38-4e75-af6f-71af15720b4b"
      },
      "execution_count": 4,
      "outputs": [
        {
          "output_type": "stream",
          "name": "stdout",
          "text": [
            "Введите число: 1\n",
            "Введите число: 2\n",
            "Введите число: 3\n",
            "Введите число: 0\n",
            "Результат:  6\n"
          ]
        }
      ]
    },
    {
      "cell_type": "markdown",
      "source": [
        "### Задание 3\n",
        "\n",
        "Мы делаем MVP dating-сервиса, и у нас есть список парней и девушек.\n",
        "Выдвигаем гипотезу: лучшие рекомендации мы получим, если просто отсортируем имена по алфавиту и познакомим людей с одинаковыми индексами после сортировки! Но мы не будем никого знакомить, если кто-то может остаться без пары:\n",
        "\n",
        "Пример работы программы:\n",
        "\n",
        "    boys = ['Peter', 'Alex', 'John', 'Arthur', 'Richard']\n",
        "    girls = ['Kate', 'Liza', 'Kira', 'Emma', 'Trisha']\n",
        "\n",
        "Результат:\n",
        "\n",
        "    Идеальные пары:  \n",
        "    Alex и Emma  \n",
        "    Arthur и Kate  \n",
        "    John и Kira  \n",
        "    Peter и Liza  \n",
        "    Richard и Trisha \n",
        "\n",
        "Пример работы программы:\n",
        "\n",
        "    boys = ['Peter', 'Alex', 'John', 'Arthur', 'Richard', 'Michael']\n",
        "    girls = ['Kate', 'Liza', 'Kira', 'Emma', 'Trisha']\n",
        "\n",
        "Результат:\n",
        "\n",
        "    Внимание, кто-то может остаться без пары!"
      ],
      "metadata": {
        "id": "7-RhNcJmrzBk"
      }
    },
    {
      "cell_type": "markdown",
      "source": [
        "### Решение"
      ],
      "metadata": {
        "id": "YI94A2Zsxl1o"
      }
    },
    {
      "cell_type": "code",
      "source": [
        "boys = ['Peter', 'Alex', 'John', 'Arthur', 'Richard']\n",
        "girls = ['Kate', 'Liza', 'Kira', 'Emma', 'Trisha']\n",
        "\n",
        "if len(boys)==len(girls):\n",
        "    boys.sort()\n",
        "    girls.sort()\n",
        "    dating = zip(boys, girls)\n",
        "    for couples in dating:\n",
        "        print(f\"Идеальные пары: {couples[0]} и {couples[1]}\")\n",
        "else:\n",
        "    print(\"Кто то может остаться без пары\")"
      ],
      "metadata": {
        "colab": {
          "base_uri": "https://localhost:8080/"
        },
        "id": "yHupz7AluGe1",
        "outputId": "060f83d3-bf83-47d8-f051-d05e0a3b92bb"
      },
      "execution_count": 5,
      "outputs": [
        {
          "output_type": "stream",
          "name": "stdout",
          "text": [
            "Идеальные пары: Alex и Emma\n",
            "Идеальные пары: Arthur и Kate\n",
            "Идеальные пары: John и Kira\n",
            "Идеальные пары: Peter и Liza\n",
            "Идеальные пары: Richard и Trisha\n"
          ]
        }
      ]
    },
    {
      "cell_type": "markdown",
      "source": [
        "### Задание 4\n",
        "\n",
        "У нас есть список, содержащий информацию о среднедневной температуре в Фаренгейтах за произвольный период по странам (структура данных в примере). Необходимо написать код, который рассчитает среднюю температуру за период в Цельсиях(!) для каждой страны."
      ],
      "metadata": {
        "id": "6u-ZMpxKxreU"
      }
    },
    {
      "cell_type": "markdown",
      "source": [
        "Пример работы программы:\n",
        "\n",
        "    countries_temperature = [\n",
        "    ['Таиланд', [75.2, 77, 78.8, 73.4, 68, 75.2, 77]],\n",
        "    ['Германия', [57.2, 55.4, 59, 59, 53.6]],\n",
        "    ['Россия', [35.6, 37.4, 39.2, 41, 42.8, 39.2, 35.6]],\n",
        "    ['Польша', [50, 50, 53.6, 57.2, 55.4, 55.4]]\n",
        "    ]\n"
      ],
      "metadata": {
        "id": "YRlY888-zspw"
      }
    },
    {
      "cell_type": "markdown",
      "source": [
        "Результат:\n",
        "\n",
        "    Средняя температура в странах:\n",
        "    Thailand  -  23.9 С\n",
        "    Germany  -  13.8 С\n",
        "    Russia  -  3.7 С\n",
        "    Poland  -  12.0 С\n"
      ],
      "metadata": {
        "id": "vNmVYTf9z_cD"
      }
    },
    {
      "cell_type": "markdown",
      "source": [
        "### Решение"
      ],
      "metadata": {
        "id": "TLlLvWu30HeH"
      }
    },
    {
      "cell_type": "code",
      "source": [
        "countries_temperature = [\n",
        "    ['Таиланд', [75.2, 77, 78.8, 73.4, 68, 75.2, 77]],\n",
        "    ['Германия', [57.2, 55.4, 59, 59, 53.6]],\n",
        "    ['Россия', [35.6, 37.4, 39.2, 41, 42.8, 39.2, 35.6]],\n",
        "    ['Польша', [50, 50, 53.6, 57.2, 55.4, 55.4]]\n",
        "]\n",
        "\n",
        "for i in countries_temperature:\n",
        "    average_temp = sum(i[1]) / len(i[1])\n",
        "    print(f\"Средняя температура в {i[0]} - {round((average_temp - 32)*5/9, 1)} C\")"
      ],
      "metadata": {
        "id": "v8qne3cN0N0k",
        "colab": {
          "base_uri": "https://localhost:8080/"
        },
        "outputId": "39c2b28d-f807-47b7-b71b-3a59d1db0016"
      },
      "execution_count": 6,
      "outputs": [
        {
          "output_type": "stream",
          "name": "stdout",
          "text": [
            "Средняя температура в Таиланд - 23.9 C\n",
            "Средняя температура в Германия - 13.8 C\n",
            "Средняя температура в Россия - 3.7 C\n",
            "Средняя температура в Польша - 12.0 C\n"
          ]
        }
      ]
    }
  ]
}