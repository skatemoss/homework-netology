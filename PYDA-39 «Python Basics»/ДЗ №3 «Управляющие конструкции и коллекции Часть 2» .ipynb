{
  "nbformat": 4,
  "nbformat_minor": 0,
  "metadata": {
    "colab": {
      "provenance": []
    },
    "kernelspec": {
      "name": "python3",
      "display_name": "Python 3"
    },
    "language_info": {
      "name": "python"
    }
  },
  "cells": [
    {
      "cell_type": "markdown",
      "source": [
        "\n",
        "### Задание 1\n",
        "\n",
        "Дана переменная, в которой хранится словарь, содержащий гео-метки для каждого пользователя (пример структуры данных приведен ниже). Вам необходимо написать программу, которая выведет на экран множество уникальных гео-меток всех пользователей.\n",
        "\n",
        "Пример работы программы:\n",
        "\n",
        "    ids = {'user1': [213, 213, 213, 15, 213], \n",
        "       'user2': [54, 54, 119, 119, 119], \n",
        "       'user3': [213, 98, 98, 35]}\n",
        "\n",
        "Результат:\n",
        "\n",
        "    {98, 35, 15, 213, 54, 119}\n"
      ],
      "metadata": {
        "id": "gzXA5N4oGEeW"
      }
    },
    {
      "cell_type": "markdown",
      "source": [
        "### Решение"
      ],
      "metadata": {
        "id": "-j92QUO_Hwvn"
      }
    },
    {
      "cell_type": "code",
      "source": [
        "ids = {'user1': [213, 213, 213, 15, 213],\n",
        "       'user2': [54, 54, 119, 119, 119],\n",
        "       'user3': [213, 98, 98, 35]}\n",
        "\n",
        "ids_set = set()\n",
        "for id_ in ids.values():\n",
        "    ids_set = ids_set.union(id_) \n",
        "print(ids_set)"
      ],
      "metadata": {
        "colab": {
          "base_uri": "https://localhost:8080/"
        },
        "id": "iQeoMRy3GOH2",
        "outputId": "8e53efe0-0cc1-4edc-8119-3ecf4cb6ae47"
      },
      "execution_count": 1,
      "outputs": [
        {
          "output_type": "stream",
          "name": "stdout",
          "text": [
            "{98, 35, 15, 213, 54, 119}\n"
          ]
        }
      ]
    },
    {
      "cell_type": "markdown",
      "source": [
        "\n",
        "### Задание 2\n",
        "\n",
        "Дана переменная, в которой хранится список поисковых запросов пользователя (пример структуры данных приведен ниже, но запросы потенциально могут быть любые). Вам необходимо написать программу, которая выведет на экран распределение количества слов в запросах в требуемом виде.\n",
        "\n",
        "Пример работы программы:\n",
        "\n",
        "    queries = [\n",
        "    'смотреть сериалы онлайн',\n",
        "    'новости спорта',\n",
        "    'афиша кино',\n",
        "    'курс доллара',\n",
        "    'сериалы этим летом',\n",
        "    'курс по питону',\n",
        "    'сериалы про спорт',\n",
        "    ]\n",
        "\n",
        "Результат:\n",
        "\n",
        "    Поисковых запросов, содержащих 2 слов(а): 42.86%\n",
        "    Поисковых запросов, содержащих 3 слов(а): 57.14%\n",
        "\n"
      ],
      "metadata": {
        "id": "VLzkpdp-HVrN"
      }
    },
    {
      "cell_type": "markdown",
      "source": [
        "### Решение"
      ],
      "metadata": {
        "id": "9P_UZuQDH3qR"
      }
    },
    {
      "cell_type": "code",
      "source": [
        "queries = [\n",
        "    'смотреть сериалы онлайн',\n",
        "    'новости спорта',\n",
        "    'афиша кино',\n",
        "    'курс доллара',\n",
        "    'сериалы этим летом',\n",
        "    'курс по питону',\n",
        "    'сериалы про спорт',\n",
        "]\n",
        "\n",
        "queries_dict = {}\n",
        "\n",
        "for query in queries:\n",
        "  words = query.split()\n",
        "  \n",
        "  if len(words) in queries_dict.keys():\n",
        "    queries_dict[len(words)] += 1\n",
        "  else:\n",
        "    queries_dict.update({\n",
        "        len(words): 1\n",
        "        })\n",
        "\n",
        "for i in set([len(i.split()) for i in queries]):\n",
        "    print(f'Поисковых запросов, содержащих {i} слов(а): {len([s for s in queries if len(s.split()) == i ]) / len(queries) :.2%}')"
      ],
      "metadata": {
        "colab": {
          "base_uri": "https://localhost:8080/"
        },
        "id": "qHX7-uacH8Nc",
        "outputId": "8707b8a9-a3a1-44d6-fb50-f2331a6322d2"
      },
      "execution_count": 2,
      "outputs": [
        {
          "output_type": "stream",
          "name": "stdout",
          "text": [
            "Поисковых запросов, содержащих 2 слов(а): 42.86%\n",
            "Поисковых запросов, содержащих 3 слов(а): 57.14%\n"
          ]
        }
      ]
    },
    {
      "cell_type": "markdown",
      "source": [
        "### Задание 3\n",
        "\n",
        "Дана переменная, в которой хранится информация о затратах и доходе рекламных кампаний по различным источникам. Необходимо дополнить исходную структуру показателем ROI, который рассчитаем по формуле: (revenue / cost - 1) * 100\n",
        "\n",
        "Пример работы программы:\n",
        "\n",
        "    results = {\n",
        "    'vk': {'revenue': 103, 'cost': 98},\n",
        "    'yandex': {'revenue': 179, 'cost': 153},\n",
        "    'facebook': {'revenue': 103, 'cost': 110},\n",
        "    'adwords': {'revenue': 35, 'cost': 34},\n",
        "    'twitter': {'revenue': 11, 'cost': 24},\n",
        "    }\n",
        "\n",
        "Результат:\n",
        "\n",
        "    {'adwords': {'revenue': 35, 'cost': 34, 'ROI': 2.94},\n",
        "    'facebook': {'revenue': 103, 'cost': 110, 'ROI': -6.36},\n",
        "    'twitter': {'revenue': 11, 'cost': 24, 'ROI': -54.17},\n",
        "    'vk': {'revenue': 103, 'cost': 98, 'ROI': 5.1},\n",
        "    'yandex': {'revenue': 179, 'cost': 153, 'ROI': 16.99}}\n",
        "\n"
      ],
      "metadata": {
        "id": "Z5pjkhidMMtt"
      }
    },
    {
      "cell_type": "markdown",
      "source": [
        "### Решениe"
      ],
      "metadata": {
        "id": "C3qduT_GMdrI"
      }
    },
    {
      "cell_type": "code",
      "source": [
        "results = {\n",
        "    'vk': {'revenue': 103, 'cost': 98},\n",
        "    'yandex': {'revenue': 179, 'cost': 153},\n",
        "    'facebook': {'revenue': 103, 'cost': 110},\n",
        "    'adwords': {'revenue': 35, 'cost': 34},\n",
        "    'twitter': {'revenue': 11, 'cost': 24},\n",
        "}\n",
        "\n",
        "for source in results:\n",
        "  results[source]['ROI'] = round(((results[source]['revenue'] / results[source]['cost'] - 1) * 100), 2)\n",
        "\n",
        "results"
      ],
      "metadata": {
        "colab": {
          "base_uri": "https://localhost:8080/"
        },
        "id": "7TQGB7GEMp-o",
        "outputId": "2aacac1f-8fa9-445f-e1b1-4b8c5c0196b6"
      },
      "execution_count": 3,
      "outputs": [
        {
          "output_type": "execute_result",
          "data": {
            "text/plain": [
              "{'vk': {'revenue': 103, 'cost': 98, 'ROI': 5.1},\n",
              " 'yandex': {'revenue': 179, 'cost': 153, 'ROI': 16.99},\n",
              " 'facebook': {'revenue': 103, 'cost': 110, 'ROI': -6.36},\n",
              " 'adwords': {'revenue': 35, 'cost': 34, 'ROI': 2.94},\n",
              " 'twitter': {'revenue': 11, 'cost': 24, 'ROI': -54.17}}"
            ]
          },
          "metadata": {},
          "execution_count": 3
        }
      ]
    },
    {
      "cell_type": "markdown",
      "source": [
        "### Задание 4\n",
        "\n",
        "Дана переменная, в которой хранится статистика рекламных каналов по объемам продаж (пример структуры данных приведен ниже). Напишите программу, которая возвращает название канала с максимальным объемом продаж.\n",
        "\n",
        "Пример работы программы:\n",
        "\n",
        "    stats = {'facebook': 55, 'yandex': 115, 'vk': 120, 'google': 99, 'email': 42, 'ok': 98}\n",
        "\n",
        "Результат:\n",
        "\n",
        "    Максимальный объем продаж на рекламном канале: vk\n"
      ],
      "metadata": {
        "id": "VKKiz4KiNhkg"
      }
    },
    {
      "cell_type": "markdown",
      "source": [
        "### Решение"
      ],
      "metadata": {
        "id": "H_Vh4XmoOx0B"
      }
    },
    {
      "cell_type": "code",
      "source": [
        "stats = {'facebook': 55,\n",
        "         'yandex': 115,\n",
        "         'vk': 120,\n",
        "         'google': 99,\n",
        "         'email': 42,\n",
        "         'ok': 98}\n",
        "\n",
        "print(f'Максимальный объем продаж на рекламном канале: {max(stats, key=stats.get)}')"
      ],
      "metadata": {
        "colab": {
          "base_uri": "https://localhost:8080/"
        },
        "id": "50TB86H0O2Qg",
        "outputId": "ad4fef4b-d11e-45ab-e09e-b96ea6c8234e"
      },
      "execution_count": 4,
      "outputs": [
        {
          "output_type": "stream",
          "name": "stdout",
          "text": [
            "Максимальный объем продаж на рекламном канале: vk\n"
          ]
        }
      ]
    },
    {
      "cell_type": "markdown",
      "source": [
        "### Задание 5\n",
        "\n",
        "Дан список произвольной длины. Необходимо написать код, который на основе исходного списка составит словарь такого уровня вложенности, какова длина исхондого списка.\n",
        "\n",
        "Пример работы программы:\n",
        "\n",
        "    my_list = ['2018-01-01', 'yandex', 'cpc', 100]\n",
        "\n",
        "Результат:\n",
        "\n",
        "    {'2018-01-01': {'yandex': {'cpc': 100}}}\n",
        "\n",
        "Пример работы программы:\n",
        "\n",
        "    my_list = ['a', 'b', 'c', 'd', 'e', 'f']\n",
        "\n",
        "Результат:\n",
        "\n",
        "    {'a': {'b': {'c': {'d': {'e': 'f'}}}}}\n"
      ],
      "metadata": {
        "id": "QgvltAJYTfuA"
      }
    },
    {
      "cell_type": "markdown",
      "source": [
        "### Решение"
      ],
      "metadata": {
        "id": "eNYlIg1IUD_7"
      }
    },
    {
      "cell_type": "code",
      "source": [
        "my_list = ['a', 'b', 'c', 'd', 'e', 'f']\n",
        "\n",
        "my_dict = {my_list[-2]: my_list[-1]}\n",
        "\n",
        "for i in my_list[:-2][::-1]:\n",
        "  my_dict = {i: my_dict}\n",
        "print(my_dict)\n",
        "     "
      ],
      "metadata": {
        "colab": {
          "base_uri": "https://localhost:8080/"
        },
        "id": "Nygw2mbqUnj8",
        "outputId": "4db5c423-e09b-4e25-cd15-62a726543a15"
      },
      "execution_count": 5,
      "outputs": [
        {
          "output_type": "stream",
          "name": "stdout",
          "text": [
            "{'a': {'b': {'c': {'d': {'e': 'f'}}}}}\n"
          ]
        }
      ]
    },
    {
      "cell_type": "markdown",
      "source": [
        "\n",
        "### Задание 6 (необязательно)\n",
        "\n",
        "Дана книга рецептов с информацией о том, сколько ингредиентов нужно для приготовления блюда в расчете на одну порцию (пример данных представлен ниже).\n",
        "Напишите программу, которая будет запрашивать у пользователя количество порций для приготовления этих блюд и отображать информацию о суммарном количестве требуемых ингредиентов в указанном виде.\n",
        "Внимание! Одинаковые ингредиенты с разными размерностями нужно считать раздельно!\n",
        "\n",
        "Пример работы программы:\n",
        "\n",
        "    cook_book = {\n",
        "      'салат': [\n",
        "        {'ingridient_name': 'сыр', 'quantity': 50, 'measure': 'гр'},\n",
        "        {'ingridient_name': 'томаты', 'quantity': 2, 'measure': 'шт'},\n",
        "        {'ingridient_name': 'огурцы', 'quantity': 20, 'measure': 'гр'},\n",
        "        {'ingridient_name': 'маслины', 'quantity': 10, 'measure': 'гр'},\n",
        "        {'ingridient_name': 'оливковое масло', 'quantity': 20, 'measure': 'мл'},\n",
        "        {'ingridient_name': 'салат', 'quantity': 10, 'measure': 'гр'},\n",
        "        {'ingridient_name': 'перец', 'quantity': 20, 'measure': 'гр'}\n",
        "        ],\n",
        "      'пицца': [\n",
        "        {'ingridient_name': 'сыр', 'quantity': 20, 'measure': 'гр'},\n",
        "        {'ingridient_name': 'колбаса', 'quantity': 30, 'measure': 'гр'},\n",
        "        {'ingridient_name': 'бекон', 'quantity': 30, 'measure': 'гр'},\n",
        "        {'ingridient_name': 'оливки', 'quantity': 10, 'measure': 'гр'},\n",
        "        {'ingridient_name': 'томаты', 'quantity': 20, 'measure': 'гр'},\n",
        "        {'ingridient_name': 'тесто', 'quantity': 100, 'measure': 'гр'},   \n",
        "        ],\n",
        "      'лимонад': [\n",
        "        {'ingridient_name': 'лимон', 'quantity': 1, 'measure': 'шт'},\n",
        "        {'ingridient_name': 'вода', 'quantity': 200, 'measure': 'мл'},\n",
        "        {'ingridient_name': 'сахар', 'quantity': 10, 'measure': 'гр'},\n",
        "        {'ingridient_name': 'лайм', 'quantity': 20, 'measure': 'гр'},    \n",
        "        ]\n",
        "    }\n",
        "\n",
        "\n",
        "Введите количество порций:  \n",
        "\n",
        "    3\n",
        "\n",
        "\n",
        "Результат:\n",
        "\n",
        "    Сыр: 210 гр  \n",
        "    Томаты: 6 шт  \n",
        "    Огурцы: 60 гр  \n",
        "    Маслины: 30 гр  \n",
        "    Оливковое масло: 60 мл  \n",
        "    Салат: 30 гр  \n",
        "    Перец: 60 гр  \n",
        "    Колбаса: 90 гр  \n",
        "    Бекон: 90 гр  \n",
        "    Оливки: 30 гр  \n",
        "    Томаты: 60 гр  \n",
        "    Тесто: 300 гр  \n",
        "    Лимон: 3 шт  \n",
        "    Вода: 600 мл  \n",
        "    Сахар: 30 гр  \n",
        "    Лайм: 60 гр  \n",
        "\n"
      ],
      "metadata": {
        "id": "GGM_I8giPaLI"
      }
    },
    {
      "cell_type": "markdown",
      "source": [
        "### Решение"
      ],
      "metadata": {
        "id": "13DgeMmZQKFb"
      }
    },
    {
      "cell_type": "code",
      "source": [
        "cook_book = {\n",
        "  'салат': [\n",
        "    {'ingridient_name': 'сыр', 'quantity': 50, 'measure': 'гр'},\n",
        "    {'ingridient_name': 'томаты', 'quantity': 2, 'measure': 'шт'},\n",
        "    {'ingridient_name': 'огурцы', 'quantity': 20, 'measure': 'гр'},\n",
        "    {'ingridient_name': 'маслины', 'quantity': 10, 'measure': 'гр'},\n",
        "    {'ingridient_name': 'оливковое масло', 'quantity': 20, 'measure': 'мл'},\n",
        "    {'ingridient_name': 'салат', 'quantity': 10, 'measure': 'гр'},\n",
        "    {'ingridient_name': 'перец', 'quantity': 20, 'measure': 'гр'}\n",
        "    ],\n",
        "  'пицца': [\n",
        "    {'ingridient_name': 'сыр', 'quantity': 20, 'measure': 'гр'},\n",
        "    {'ingridient_name': 'колбаса', 'quantity': 30, 'measure': 'гр'},\n",
        "    {'ingridient_name': 'бекон', 'quantity': 30, 'measure': 'гр'},\n",
        "    {'ingridient_name': 'оливки', 'quantity': 10, 'measure': 'гр'},\n",
        "    {'ingridient_name': 'томаты', 'quantity': 20, 'measure': 'гр'},\n",
        "    {'ingridient_name': 'тесто', 'quantity': 100, 'measure': 'гр'},   \n",
        "    ],\n",
        "  'лимонад': [\n",
        "    {'ingridient_name': 'лимон', 'quantity': 1, 'measure': 'шт'},\n",
        "    {'ingridient_name': 'вода', 'quantity': 200, 'measure': 'мл'},\n",
        "    {'ingridient_name': 'сахар', 'quantity': 10, 'measure': 'гр'},\n",
        "    {'ingridient_name': 'лайм', 'quantity': 20, 'measure': 'гр'},    \n",
        "    ]\n",
        "}\n",
        "\n",
        "person = 3\n",
        "shop_dict = {}\n",
        "for dish in cook_book.values():\n",
        "  for ingr in dish:\n",
        "    key = (ingr['ingridient_name'], ingr['measure'])\n",
        "    shop_dict.setdefault(key, 0)\n",
        "    shop_dict[key] += ingr['quantity'] * person\n",
        "\n",
        "for name, q in shop_dict.items():\n",
        "\tprint(f'{name[0]}: {q} {name[1]}')"
      ],
      "metadata": {
        "colab": {
          "base_uri": "https://localhost:8080/"
        },
        "id": "2WaLgwoMQMlJ",
        "outputId": "eae6bb48-6e13-4ce5-c1f1-beb44767283f"
      },
      "execution_count": 6,
      "outputs": [
        {
          "output_type": "stream",
          "name": "stdout",
          "text": [
            "сыр: 210 гр\n",
            "томаты: 6 шт\n",
            "огурцы: 60 гр\n",
            "маслины: 30 гр\n",
            "оливковое масло: 60 мл\n",
            "салат: 30 гр\n",
            "перец: 60 гр\n",
            "колбаса: 90 гр\n",
            "бекон: 90 гр\n",
            "оливки: 30 гр\n",
            "томаты: 60 гр\n",
            "тесто: 300 гр\n",
            "лимон: 3 шт\n",
            "вода: 600 мл\n",
            "сахар: 30 гр\n",
            "лайм: 60 гр\n"
          ]
        }
      ]
    }
  ]
}