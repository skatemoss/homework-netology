{
  "nbformat": 4,
  "nbformat_minor": 0,
  "metadata": {
    "colab": {
      "provenance": []
    },
    "kernelspec": {
      "name": "python3",
      "display_name": "Python 3"
    },
    "language_info": {
      "name": "python"
    }
  },
  "cells": [
    {
      "cell_type": "markdown",
      "source": [
        "### Домашнее задание\n",
        "\n",
        "  1. Переведите содержимое файла purchase_log.txt в словарь purchases вида:\n",
        "\n",
        "    {‘1840e0b9d4’: ‘Продукты’, …}\n",
        "\n",
        "  2. Для каждого user_id в файле visit_log.csv определите третий столбец с категорией покупки, если покупка была, сам файл visit_log.csv изменять не надо. Запишите в файл funnel.csv визиты из файла visit_log.csv, в которых были покупки с указанием категории.\n",
        "\n",
        "  Учтите условия на данные:\n",
        "  содержимое purchase_log.txt помещается в оперативную память компьютера;\n",
        "  cодержимое visit_log.csv — нет; используйте только построчную обработку этого файла.\n"
      ],
      "metadata": {
        "id": "8Bt3tdXw-M1Z"
      }
    },
    {
      "cell_type": "markdown",
      "source": [
        "### Решение 1-го задания."
      ],
      "metadata": {
        "id": "ZAo3SqBaEPS-"
      }
    },
    {
      "cell_type": "code",
      "execution_count": null,
      "metadata": {
        "id": "or2ucfp28z_l",
        "colab": {
          "base_uri": "https://localhost:8080/"
        },
        "outputId": "4a44080e-2782-4e95-8749-4be6c70b7ba8"
      },
      "outputs": [
        {
          "output_type": "stream",
          "name": "stdout",
          "text": [
            "('user_id', 'category')\n",
            "('1840e0b9d4', 'Продукты')\n",
            "('4e4f90fcfb', 'Электроника')\n",
            "('afea8d72fc', 'Электроника')\n",
            "('373a6055fe', 'Бытовая техника')\n",
            "('9b2ab046f3', 'Электроника')\n",
            "('9f39d307c3', 'Электроника')\n",
            "('44edeffc91', 'Продукты')\n",
            "('704474fa2d', 'Продукты')\n",
            "('1de31be403', 'Бытовая техника')\n",
            "('b71f36a5e4', 'Продукты')\n"
          ]
        }
      ],
      "source": [
        "import json\n",
        "purchase_dict = {}\n",
        "i = 0\n",
        "\n",
        "with open('/content/drive/MyDrive/Colab Notebooks/purchase_log.txt') as f_purchase:\n",
        "  for line in f_purchase:\n",
        "    line = line.strip() \n",
        "    dict_ = json.loads(line)\n",
        "    purchase_dict[dict_['user_id']] = dict_['category']\n",
        "\n",
        "for items in purchase_dict.items():\n",
        "  print(items)\n",
        "  i += 1\n",
        "  if i > 10:\n",
        "    break"
      ]
    },
    {
      "cell_type": "markdown",
      "source": [
        "### Решение 2-го задания."
      ],
      "metadata": {
        "id": "D5oQv4BiEUqO"
      }
    },
    {
      "cell_type": "code",
      "source": [
        "with open('/content/drive/MyDrive/Colab Notebooks/visit_log.csv', 'r') as visit_log:\n",
        "  with open('funnel.csv', 'w') as funnel:\n",
        "    for line in visit_log:\n",
        "      visits = line.strip().split(',')\n",
        "      if visits[0] in purchase_dict.keys():\n",
        "        visits.append(purchase_dict[visits[0]])\n",
        "        funnel.write(','.join(visits) + '\\n')"
      ],
      "metadata": {
        "id": "mpe1xPrnETub"
      },
      "execution_count": null,
      "outputs": []
    },
    {
      "cell_type": "code",
      "source": [
        "import pandas as pd\n",
        "df = pd.read_csv('/content/funnel.csv')\n",
        "df"
      ],
      "metadata": {
        "colab": {
          "base_uri": "https://localhost:8080/",
          "height": 424
        },
        "id": "9HRmNNKkQVON",
        "outputId": "4bbe98fe-97e8-4c3a-f912-534b6747dbc8"
      },
      "execution_count": null,
      "outputs": [
        {
          "output_type": "execute_result",
          "data": {
            "text/plain": [
              "          ['user_id'    'source'                 'category']\n",
              "0      ['1840e0b9d4'     'other'                 'Продукты']\n",
              "1      ['4e4f90fcfb'   'context'              'Электроника']\n",
              "2      ['afea8d72fc'     'other'              'Электроника']\n",
              "3      ['2824221f38'     'email'                 'Продукты']\n",
              "4      ['373a6055fe'     'other'          'Бытовая техника']\n",
              "...              ...         ...                         ...\n",
              "13793  ['cb2da172f8'     'other'   'Строительство и ремонт']\n",
              "13794  ['047fbda813'     'other'          'Бытовая техника']\n",
              "13795  ['cf797f912d'     'other'          'Бытовая техника']\n",
              "13796  ['9ff57c335f'   'context'      'Товары для животных']\n",
              "13797  ['bdc8054507'     'other'              'Электроника']\n",
              "\n",
              "[13798 rows x 3 columns]"
            ],
            "text/html": [
              "\n",
              "  <div id=\"df-3e68d5c0-1f8d-459e-967b-b27ca8350fa1\">\n",
              "    <div class=\"colab-df-container\">\n",
              "      <div>\n",
              "<style scoped>\n",
              "    .dataframe tbody tr th:only-of-type {\n",
              "        vertical-align: middle;\n",
              "    }\n",
              "\n",
              "    .dataframe tbody tr th {\n",
              "        vertical-align: top;\n",
              "    }\n",
              "\n",
              "    .dataframe thead th {\n",
              "        text-align: right;\n",
              "    }\n",
              "</style>\n",
              "<table border=\"1\" class=\"dataframe\">\n",
              "  <thead>\n",
              "    <tr style=\"text-align: right;\">\n",
              "      <th></th>\n",
              "      <th>['user_id'</th>\n",
              "      <th>'source'</th>\n",
              "      <th>'category']</th>\n",
              "    </tr>\n",
              "  </thead>\n",
              "  <tbody>\n",
              "    <tr>\n",
              "      <th>0</th>\n",
              "      <td>['1840e0b9d4'</td>\n",
              "      <td>'other'</td>\n",
              "      <td>'Продукты']</td>\n",
              "    </tr>\n",
              "    <tr>\n",
              "      <th>1</th>\n",
              "      <td>['4e4f90fcfb'</td>\n",
              "      <td>'context'</td>\n",
              "      <td>'Электроника']</td>\n",
              "    </tr>\n",
              "    <tr>\n",
              "      <th>2</th>\n",
              "      <td>['afea8d72fc'</td>\n",
              "      <td>'other'</td>\n",
              "      <td>'Электроника']</td>\n",
              "    </tr>\n",
              "    <tr>\n",
              "      <th>3</th>\n",
              "      <td>['2824221f38'</td>\n",
              "      <td>'email'</td>\n",
              "      <td>'Продукты']</td>\n",
              "    </tr>\n",
              "    <tr>\n",
              "      <th>4</th>\n",
              "      <td>['373a6055fe'</td>\n",
              "      <td>'other'</td>\n",
              "      <td>'Бытовая техника']</td>\n",
              "    </tr>\n",
              "    <tr>\n",
              "      <th>...</th>\n",
              "      <td>...</td>\n",
              "      <td>...</td>\n",
              "      <td>...</td>\n",
              "    </tr>\n",
              "    <tr>\n",
              "      <th>13793</th>\n",
              "      <td>['cb2da172f8'</td>\n",
              "      <td>'other'</td>\n",
              "      <td>'Строительство и ремонт']</td>\n",
              "    </tr>\n",
              "    <tr>\n",
              "      <th>13794</th>\n",
              "      <td>['047fbda813'</td>\n",
              "      <td>'other'</td>\n",
              "      <td>'Бытовая техника']</td>\n",
              "    </tr>\n",
              "    <tr>\n",
              "      <th>13795</th>\n",
              "      <td>['cf797f912d'</td>\n",
              "      <td>'other'</td>\n",
              "      <td>'Бытовая техника']</td>\n",
              "    </tr>\n",
              "    <tr>\n",
              "      <th>13796</th>\n",
              "      <td>['9ff57c335f'</td>\n",
              "      <td>'context'</td>\n",
              "      <td>'Товары для животных']</td>\n",
              "    </tr>\n",
              "    <tr>\n",
              "      <th>13797</th>\n",
              "      <td>['bdc8054507'</td>\n",
              "      <td>'other'</td>\n",
              "      <td>'Электроника']</td>\n",
              "    </tr>\n",
              "  </tbody>\n",
              "</table>\n",
              "<p>13798 rows × 3 columns</p>\n",
              "</div>\n",
              "      <button class=\"colab-df-convert\" onclick=\"convertToInteractive('df-3e68d5c0-1f8d-459e-967b-b27ca8350fa1')\"\n",
              "              title=\"Convert this dataframe to an interactive table.\"\n",
              "              style=\"display:none;\">\n",
              "        \n",
              "  <svg xmlns=\"http://www.w3.org/2000/svg\" height=\"24px\"viewBox=\"0 0 24 24\"\n",
              "       width=\"24px\">\n",
              "    <path d=\"M0 0h24v24H0V0z\" fill=\"none\"/>\n",
              "    <path d=\"M18.56 5.44l.94 2.06.94-2.06 2.06-.94-2.06-.94-.94-2.06-.94 2.06-2.06.94zm-11 1L8.5 8.5l.94-2.06 2.06-.94-2.06-.94L8.5 2.5l-.94 2.06-2.06.94zm10 10l.94 2.06.94-2.06 2.06-.94-2.06-.94-.94-2.06-.94 2.06-2.06.94z\"/><path d=\"M17.41 7.96l-1.37-1.37c-.4-.4-.92-.59-1.43-.59-.52 0-1.04.2-1.43.59L10.3 9.45l-7.72 7.72c-.78.78-.78 2.05 0 2.83L4 21.41c.39.39.9.59 1.41.59.51 0 1.02-.2 1.41-.59l7.78-7.78 2.81-2.81c.8-.78.8-2.07 0-2.86zM5.41 20L4 18.59l7.72-7.72 1.47 1.35L5.41 20z\"/>\n",
              "  </svg>\n",
              "      </button>\n",
              "      \n",
              "  <style>\n",
              "    .colab-df-container {\n",
              "      display:flex;\n",
              "      flex-wrap:wrap;\n",
              "      gap: 12px;\n",
              "    }\n",
              "\n",
              "    .colab-df-convert {\n",
              "      background-color: #E8F0FE;\n",
              "      border: none;\n",
              "      border-radius: 50%;\n",
              "      cursor: pointer;\n",
              "      display: none;\n",
              "      fill: #1967D2;\n",
              "      height: 32px;\n",
              "      padding: 0 0 0 0;\n",
              "      width: 32px;\n",
              "    }\n",
              "\n",
              "    .colab-df-convert:hover {\n",
              "      background-color: #E2EBFA;\n",
              "      box-shadow: 0px 1px 2px rgba(60, 64, 67, 0.3), 0px 1px 3px 1px rgba(60, 64, 67, 0.15);\n",
              "      fill: #174EA6;\n",
              "    }\n",
              "\n",
              "    [theme=dark] .colab-df-convert {\n",
              "      background-color: #3B4455;\n",
              "      fill: #D2E3FC;\n",
              "    }\n",
              "\n",
              "    [theme=dark] .colab-df-convert:hover {\n",
              "      background-color: #434B5C;\n",
              "      box-shadow: 0px 1px 3px 1px rgba(0, 0, 0, 0.15);\n",
              "      filter: drop-shadow(0px 1px 2px rgba(0, 0, 0, 0.3));\n",
              "      fill: #FFFFFF;\n",
              "    }\n",
              "  </style>\n",
              "\n",
              "      <script>\n",
              "        const buttonEl =\n",
              "          document.querySelector('#df-3e68d5c0-1f8d-459e-967b-b27ca8350fa1 button.colab-df-convert');\n",
              "        buttonEl.style.display =\n",
              "          google.colab.kernel.accessAllowed ? 'block' : 'none';\n",
              "\n",
              "        async function convertToInteractive(key) {\n",
              "          const element = document.querySelector('#df-3e68d5c0-1f8d-459e-967b-b27ca8350fa1');\n",
              "          const dataTable =\n",
              "            await google.colab.kernel.invokeFunction('convertToInteractive',\n",
              "                                                     [key], {});\n",
              "          if (!dataTable) return;\n",
              "\n",
              "          const docLinkHtml = 'Like what you see? Visit the ' +\n",
              "            '<a target=\"_blank\" href=https://colab.research.google.com/notebooks/data_table.ipynb>data table notebook</a>'\n",
              "            + ' to learn more about interactive tables.';\n",
              "          element.innerHTML = '';\n",
              "          dataTable['output_type'] = 'display_data';\n",
              "          await google.colab.output.renderOutput(dataTable, element);\n",
              "          const docLink = document.createElement('div');\n",
              "          docLink.innerHTML = docLinkHtml;\n",
              "          element.appendChild(docLink);\n",
              "        }\n",
              "      </script>\n",
              "    </div>\n",
              "  </div>\n",
              "  "
            ]
          },
          "metadata": {},
          "execution_count": 3
        }
      ]
    }
  ]
}