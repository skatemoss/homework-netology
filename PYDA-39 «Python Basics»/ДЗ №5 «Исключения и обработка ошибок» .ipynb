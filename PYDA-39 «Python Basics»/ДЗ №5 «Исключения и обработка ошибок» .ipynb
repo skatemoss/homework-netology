{
  "nbformat": 4,
  "nbformat_minor": 0,
  "metadata": {
    "colab": {
      "provenance": []
    },
    "kernelspec": {
      "name": "python3",
      "display_name": "Python 3"
    },
    "language_info": {
      "name": "python"
    }
  },
  "cells": [
    {
      "cell_type": "markdown",
      "source": [
        "### Задание 1\n",
        "\n",
        "Печатные газеты использовали свой формат дат для каждого выпуска. Для каждой газеты из списка напишите формат указанной даты для перевода в объект datetime:\n",
        "\n",
        "    The Moscow Times — Wednesday, October 2, 2002\n",
        "    The Guardian — Friday, 11.10.13\n",
        "    Daily News — Thursday, 18 August 1977"
      ],
      "metadata": {
        "id": "nAyAcmRDiMY2"
      }
    },
    {
      "cell_type": "markdown",
      "source": [
        "### Решение"
      ],
      "metadata": {
        "id": "XP7JovUKiX4V"
      }
    },
    {
      "cell_type": "code",
      "execution_count": 1,
      "metadata": {
        "colab": {
          "base_uri": "https://localhost:8080/"
        },
        "id": "9koWJNfLhAYt",
        "outputId": "a827c6f6-8fb2-442c-cd01-7b2d0313d13a"
      },
      "outputs": [
        {
          "output_type": "execute_result",
          "data": {
            "text/plain": [
              "(datetime.datetime(2002, 10, 2, 0, 0),\n",
              " datetime.datetime(2013, 10, 11, 0, 0),\n",
              " datetime.datetime(1977, 8, 18, 0, 0))"
            ]
          },
          "metadata": {},
          "execution_count": 1
        }
      ],
      "source": [
        "from datetime import datetime as dt\n",
        "\n",
        "MT = 'Wednesday, October 2, 2002'\n",
        "TG = 'Friday, 11.10.13'\n",
        "DN = 'Thursday, 18 August 1977'\n",
        "\n",
        "MT_dt = dt.strptime(MT, '%A, %B %d, %Y')\n",
        "TG_dt = dt.strptime(TG, '%A, %d.%m.%y')\n",
        "DN_dt = dt.strptime(DN, '%A, %d %B %Y')\n",
        "\n",
        "MT_dt, TG_dt, DN_dt"
      ]
    },
    {
      "cell_type": "markdown",
      "source": [
        "### Задание 2\n",
        "\n",
        "Дан поток дат в формате YYYY-MM-DD, в которых встречаются некорректные значения:\n",
        "\n",
        "    stream = [‘2018-04-02’, ‘2018-02-29’, ‘2018-19-02’]\n",
        "\n",
        "Напишите функцию, которая проверяет эти даты на корректность. То есть для каждой даты возвращает True — дата корректна или False — некорректная."
      ],
      "metadata": {
        "id": "ytVou5Y4mI1a"
      }
    },
    {
      "cell_type": "markdown",
      "source": [
        "### Решение"
      ],
      "metadata": {
        "id": "Jv3CiyiNmVUe"
      }
    },
    {
      "cell_type": "code",
      "source": [
        "def test_date(stream):\n",
        "  for date in stream:\n",
        "    try:\n",
        "      dt.strptime(date, '%Y-%m-%d')\n",
        "      print(f'{date} дата корректна')\n",
        "    except:\n",
        "      print(f'{date} некорректная дата')"
      ],
      "metadata": {
        "id": "cr4PrLbVmZlK"
      },
      "execution_count": 2,
      "outputs": []
    },
    {
      "cell_type": "code",
      "source": [
        "stream = ['2018-04-02', '2018-02-29', '2018-19-02']\n",
        "test_date(stream)"
      ],
      "metadata": {
        "colab": {
          "base_uri": "https://localhost:8080/"
        },
        "id": "N55wGGJ-mzOD",
        "outputId": "01db25f0-acc2-41ff-aea5-056f59612887"
      },
      "execution_count": 3,
      "outputs": [
        {
          "output_type": "stream",
          "name": "stdout",
          "text": [
            "2018-04-02 дата корректна\n",
            "2018-02-29 некорректная дата\n",
            "2018-19-02 некорректная дата\n"
          ]
        }
      ]
    },
    {
      "cell_type": "markdown",
      "source": [
        "### Задание 3\n",
        "\n",
        "Напишите функцию date_range, которая возвращает список дат за период от start_date до end_date. Даты должны вводиться в формате YYYY-MM-DD. В случае неверного формата или при start_date > end_date должен возвращаться пустой список."
      ],
      "metadata": {
        "id": "YAzc4QWpnCe7"
      }
    },
    {
      "cell_type": "markdown",
      "source": [
        "### Решение"
      ],
      "metadata": {
        "id": "wLVa4cN5nJyy"
      }
    },
    {
      "cell_type": "code",
      "source": [
        "from datetime import timedelta\n",
        "import pprint\n",
        "\n",
        "def date_range(start_date, end_date):\n",
        "  date_list = []\n",
        "  \n",
        "  try:\n",
        "    start_date_dt = dt.strptime(start_date, '%Y-%m-%d')\n",
        "    end_date_dt = dt.strptime(end_date, '%Y-%m-%d')\n",
        "    while start_date_dt <= end_date_dt:\n",
        "      date_list.append(start_date_dt.strftime('%Y-%m-%d'))\n",
        "      start_date_dt += timedelta(days = 1)\n",
        "  except:\n",
        "    return []\n",
        "  pprint.pprint(date_list)"
      ],
      "metadata": {
        "id": "LLH7gbFZnLeS"
      },
      "execution_count": 13,
      "outputs": []
    },
    {
      "cell_type": "code",
      "source": [
        "date_one = input('Дата в формате YYYY-MM-DD: ')\n",
        "date_two = input('Дата в формате YYYY-MM-DD: ')\n",
        "\n",
        "date_range(date_one, date_two)"
      ],
      "metadata": {
        "id": "pOks4k55pSCr",
        "outputId": "c0bcea50-48de-4ac4-f3e4-0c5c4647bdc7",
        "colab": {
          "base_uri": "https://localhost:8080/"
        }
      },
      "execution_count": 14,
      "outputs": [
        {
          "output_type": "stream",
          "name": "stdout",
          "text": [
            "Дата в формате YYYY-MM-DD: 2022-01-01\n",
            "Дата в формате YYYY-MM-DD: 2022-01-15\n",
            "['2022-01-01',\n",
            " '2022-01-02',\n",
            " '2022-01-03',\n",
            " '2022-01-04',\n",
            " '2022-01-05',\n",
            " '2022-01-06',\n",
            " '2022-01-07',\n",
            " '2022-01-08',\n",
            " '2022-01-09',\n",
            " '2022-01-10',\n",
            " '2022-01-11',\n",
            " '2022-01-12',\n",
            " '2022-01-13',\n",
            " '2022-01-14',\n",
            " '2022-01-15']\n"
          ]
        }
      ]
    }
  ]
}